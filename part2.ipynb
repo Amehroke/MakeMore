{
 "cells": [
  {
   "cell_type": "markdown",
   "metadata": {},
   "source": [
    "**Instead of using statistical models like bigrams or trigrams, we will use a Multi-Layer Perceptron (MLP). This is because the array matrix required for storing letter combinations grows exponentially as 26^x, where x is the number of letter combinations. Since 26 represents the number of letters in the alphabet, this approach would require excessive computation and memory. Using a neural network like an MLP is a more efficient alternative.**"
   ]
  },
  {
   "cell_type": "code",
   "execution_count": 4,
   "metadata": {},
   "outputs": [],
   "source": [
    "import torch \n",
    "import torch.nn.functional as F\n",
    "import matplotlib.pyplot as plt\n",
    "%matplotlib inline"
   ]
  },
  {
   "cell_type": "code",
   "execution_count": 5,
   "metadata": {},
   "outputs": [
    {
     "data": {
      "text/plain": [
       "['emma', 'olivia', 'ava', 'isabella', 'sophia', 'charlotte', 'mia', 'amelia']"
      ]
     },
     "execution_count": 5,
     "metadata": {},
     "output_type": "execute_result"
    }
   ],
   "source": [
    "#Read in txt file\n",
    "words = open('names.txt', 'r').read().splitlines()\n",
    "words[:8]"
   ]
  },
  {
   "cell_type": "code",
   "execution_count": 6,
   "metadata": {},
   "outputs": [
    {
     "data": {
      "text/plain": [
       "32033"
      ]
     },
     "execution_count": 6,
     "metadata": {},
     "output_type": "execute_result"
    }
   ],
   "source": [
    "len(words)"
   ]
  },
  {
   "cell_type": "code",
   "execution_count": 7,
   "metadata": {},
   "outputs": [
    {
     "name": "stdout",
     "output_type": "stream",
     "text": [
      "{'a': 1, 'b': 2, 'c': 3, 'd': 4, 'e': 5, 'f': 6, 'g': 7, 'h': 8, 'i': 9, 'j': 10, 'k': 11, 'l': 12, 'm': 13, 'n': 14, 'o': 15, 'p': 16, 'q': 17, 'r': 18, 's': 19, 't': 20, 'u': 21, 'v': 22, 'w': 23, 'x': 24, 'y': 25, 'z': 26, '.': 0}\n",
      "{1: 'a', 2: 'b', 3: 'c', 4: 'd', 5: 'e', 6: 'f', 7: 'g', 8: 'h', 9: 'i', 10: 'j', 11: 'k', 12: 'l', 13: 'm', 14: 'n', 15: 'o', 16: 'p', 17: 'q', 18: 'r', 19: 's', 20: 't', 21: 'u', 22: 'v', 23: 'w', 24: 'x', 25: 'y', 26: 'z', 0: '.'}\n"
     ]
    }
   ],
   "source": [
    "# Convert the alphabet to a index integer using mapping \n",
    "chars = sorted(list(set(''.join(words))))\n",
    "# print(chars)\n",
    "stoi = {s:i+1 for i,s in enumerate(chars)}\n",
    "stoi['.'] = 0 \n",
    "itos = {i:s for s,i in stoi.items()}\n",
    "print(stoi)\n",
    "print(itos)"
   ]
  },
  {
   "cell_type": "markdown",
   "metadata": {},
   "source": [
    "For this following FUnction we are creating a dataset based off of indexs based on the previous mapping and storing them as tensors for each word. For example there is 5 words, so we will end up with a dataset of 5 empty arrays [. . .] and then a variation of all the words as shown in the print out of the funciton: "
   ]
  },
  {
   "cell_type": "code",
   "execution_count": null,
   "metadata": {},
   "outputs": [
    {
     "name": "stdout",
     "output_type": "stream",
     "text": [
      "emma\n",
      "... -----> e\n",
      "..e -----> m\n",
      ".em -----> m\n",
      "emm -----> a\n",
      "mma -----> .\n",
      "olivia\n",
      "... -----> o\n",
      "..o -----> l\n",
      ".ol -----> i\n",
      "oli -----> v\n",
      "liv -----> i\n",
      "ivi -----> a\n",
      "via -----> .\n",
      "ava\n",
      "... -----> a\n",
      "..a -----> v\n",
      ".av -----> a\n",
      "ava -----> .\n",
      "isabella\n",
      "... -----> i\n",
      "..i -----> s\n",
      ".is -----> a\n",
      "isa -----> b\n",
      "sab -----> e\n",
      "abe -----> l\n",
      "bel -----> l\n",
      "ell -----> a\n",
      "lla -----> .\n",
      "sophia\n",
      "... -----> s\n",
      "..s -----> o\n",
      ".so -----> p\n",
      "sop -----> h\n",
      "oph -----> i\n",
      "phi -----> a\n",
      "hia -----> .\n",
      "32\n"
     ]
    }
   ],
   "source": [
    "# This is the block size for how big the input is going to be for the MLP\n",
    "block_size = 3\n",
    "\n",
    "X,y = [],[] # X is the input, y is the Label\n",
    "count = 5\n",
    "for w in words[:5]: \n",
    "    print(w)\n",
    "    context = [0] * block_size\n",
    "    count += len(w)\n",
    "    for ch in w + '.': \n",
    "        ix = stoi[ch]\n",
    "        # print('ch:', ch)\n",
    "        # print('ix', ix)\n",
    "        X.append(context)\n",
    "        # print('context', context)\n",
    "        y.append(ix)\n",
    "        print(''.join([itos[i] for i in context]),'----->', itos[ix])\n",
    "        context = context[1:] + [ix] \n",
    "        \n",
    "print(count)\n",
    "X = torch.tensor(X)\n",
    "Y = torch.tensor(y)"
   ]
  },
  {
   "cell_type": "markdown",
   "metadata": {},
   "source": [
    "\n",
    "---\n",
    "\n",
    "### Understanding the Function:"
   ]
  },
  {
   "cell_type": "markdown",
   "metadata": {},
   "source": [
    "This function constructs a dataset by mapping words into numerical indices based on a predefined character-to-index dictionary (`stoi`). Each word is converted into input-output pairs, which are then stored as tensors.\n",
    "\n",
    "#### Process Breakdown:\n",
    "1. **Defining Block Size**:  \n",
    "   - The `block_size` (3 in this case) determines how many previous characters are used as input to predict the next character.\n",
    "\n",
    "2. **Initializing Inputs (`X`) and Labels (`y`)**:  \n",
    "   - `X` stores the input sequences (context windows of size `block_size`).\n",
    "   - `y` stores the corresponding next character (label).\n",
    "\n",
    "3. **Iterating Over Words**:  \n",
    "   - The function loops through the first five words in `words[:5]`.\n",
    "   - Each word is extended with a stopping character (`.`) to signify the end.\n",
    "   - The initial context (input window) starts as `[0, 0, 0]` (empty context).\n",
    "\n",
    "4. **Generating Input-Output Pairs**:  \n",
    "   - For each character in the word (including `.` at the end), the function:\n",
    "     - Converts the character into its corresponding index (`ix`).\n",
    "     - Stores the current context in `X` and the next character index in `y`.\n",
    "     - Updates the context by shifting left and adding the new character.\n",
    "\n",
    "5. **Example Breakdown** (for `\"emma\"` with `block_size=3`):\n",
    "   ```\n",
    "       emma\n",
    "       ... -----> e   # Initial context is empty, predicting 'e'\n",
    "       ..e -----> m   # Context shifts, predicting 'm'\n",
    "       .em -----> m   # Context shifts, predicting 'm'\n",
    "       emm -----> a   # Context shifts, predicting 'a'\n",
    "       mma -----> .   # Context shifts, predicting the end character '.'\n",
    "   ```\n",
    "\n",
    "6. **Final Conversion to Tensors**:  \n",
    "   - The `X` and `y` lists are converted into PyTorch tensors for further processing.\n",
    "\n",
    "This method effectively converts words into training data for a model, where each input sequence predicts the next character."
   ]
  },
  {
   "cell_type": "markdown",
   "metadata": {},
   "source": [
    "--- "
   ]
  },
  {
   "cell_type": "markdown",
   "metadata": {},
   "source": [
    "## The final result of Dataset"
   ]
  },
  {
   "cell_type": "code",
   "execution_count": null,
   "metadata": {},
   "outputs": [],
   "source": []
  }
 ],
 "metadata": {
  "kernelspec": {
   "display_name": "makemore",
   "language": "python",
   "name": "python3"
  },
  "language_info": {
   "codemirror_mode": {
    "name": "ipython",
    "version": 3
   },
   "file_extension": ".py",
   "mimetype": "text/x-python",
   "name": "python",
   "nbconvert_exporter": "python",
   "pygments_lexer": "ipython3",
   "version": "3.12.8"
  }
 },
 "nbformat": 4,
 "nbformat_minor": 2
}
