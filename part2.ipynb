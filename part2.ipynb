{
 "cells": [
  {
   "cell_type": "markdown",
   "metadata": {},
   "source": [
    "**Instead of using statistical models like bigrams or trigrams, we will use a Multi-Layer Perceptron (MLP). This is because the array matrix required for storing letter combinations grows exponentially as 26^x, where x is the number of letter combinations. Since 26 represents the number of letters in the alphabet, this approach would require excessive computation and memory. Using a neural network like an MLP is a more efficient alternative.**\n",
    "\n",
    "<div align = 'center'>\n",
    "    <img src=\"./MLP_Arch.png\" width=\"500\">\n",
    "<div>\n"
   ]
  },
  {
   "cell_type": "markdown",
   "metadata": {},
   "source": [
    "---"
   ]
  },
  {
   "cell_type": "markdown",
   "metadata": {},
   "source": [
    "# Step 1 Batch/Input Layer"
   ]
  },
  {
   "cell_type": "code",
   "execution_count": 1,
   "metadata": {},
   "outputs": [],
   "source": [
    "import torch \n",
    "import torch.nn.functional as F\n",
    "import matplotlib.pyplot as plt\n",
    "%matplotlib inline"
   ]
  },
  {
   "cell_type": "code",
   "execution_count": 2,
   "metadata": {},
   "outputs": [
    {
     "data": {
      "text/plain": [
       "['emma', 'olivia', 'ava', 'isabella', 'sophia', 'charlotte', 'mia', 'amelia']"
      ]
     },
     "execution_count": 2,
     "metadata": {},
     "output_type": "execute_result"
    }
   ],
   "source": [
    "#Read in txt file\n",
    "words = open('names.txt', 'r').read().splitlines()\n",
    "words[:8]"
   ]
  },
  {
   "cell_type": "code",
   "execution_count": 3,
   "metadata": {},
   "outputs": [
    {
     "data": {
      "text/plain": [
       "32033"
      ]
     },
     "execution_count": 3,
     "metadata": {},
     "output_type": "execute_result"
    }
   ],
   "source": [
    "len(words)"
   ]
  },
  {
   "cell_type": "code",
   "execution_count": 4,
   "metadata": {},
   "outputs": [
    {
     "name": "stdout",
     "output_type": "stream",
     "text": [
      "{'a': 1, 'b': 2, 'c': 3, 'd': 4, 'e': 5, 'f': 6, 'g': 7, 'h': 8, 'i': 9, 'j': 10, 'k': 11, 'l': 12, 'm': 13, 'n': 14, 'o': 15, 'p': 16, 'q': 17, 'r': 18, 's': 19, 't': 20, 'u': 21, 'v': 22, 'w': 23, 'x': 24, 'y': 25, 'z': 26, '.': 0}\n",
      "{1: 'a', 2: 'b', 3: 'c', 4: 'd', 5: 'e', 6: 'f', 7: 'g', 8: 'h', 9: 'i', 10: 'j', 11: 'k', 12: 'l', 13: 'm', 14: 'n', 15: 'o', 16: 'p', 17: 'q', 18: 'r', 19: 's', 20: 't', 21: 'u', 22: 'v', 23: 'w', 24: 'x', 25: 'y', 26: 'z', 0: '.'}\n"
     ]
    }
   ],
   "source": [
    "# Convert the alphabet to a index integer using mapping \n",
    "chars = sorted(list(set(''.join(words))))\n",
    "# print(chars)\n",
    "stoi = {s:i+1 for i,s in enumerate(chars)}\n",
    "stoi['.'] = 0 \n",
    "itos = {i:s for s,i in stoi.items()}\n",
    "print(stoi)\n",
    "print(itos)"
   ]
  },
  {
   "cell_type": "markdown",
   "metadata": {},
   "source": [
    "For this following FUnction we are creating a dataset based off of indexs based on the previous mapping and storing them as tensors for each word. For example there is 5 words, so we will end up with a dataset of 5 empty arrays [. . .] and then a variation of all the words as shown in the print out of the funciton: "
   ]
  },
  {
   "cell_type": "code",
   "execution_count": 5,
   "metadata": {},
   "outputs": [
    {
     "name": "stdout",
     "output_type": "stream",
     "text": [
      "emma\n",
      "... -----> e\n",
      "..e -----> m\n",
      ".em -----> m\n",
      "emm -----> a\n",
      "mma -----> .\n",
      "olivia\n",
      "... -----> o\n",
      "..o -----> l\n",
      ".ol -----> i\n",
      "oli -----> v\n",
      "liv -----> i\n",
      "ivi -----> a\n",
      "via -----> .\n",
      "ava\n",
      "... -----> a\n",
      "..a -----> v\n",
      ".av -----> a\n",
      "ava -----> .\n",
      "isabella\n",
      "... -----> i\n",
      "..i -----> s\n",
      ".is -----> a\n",
      "isa -----> b\n",
      "sab -----> e\n",
      "abe -----> l\n",
      "bel -----> l\n",
      "ell -----> a\n",
      "lla -----> .\n",
      "sophia\n",
      "... -----> s\n",
      "..s -----> o\n",
      ".so -----> p\n",
      "sop -----> h\n",
      "oph -----> i\n",
      "phi -----> a\n",
      "hia -----> .\n",
      "32\n"
     ]
    }
   ],
   "source": [
    "# This is the block size for how big the input is going to be for the MLP\n",
    "block_size = 3\n",
    "\n",
    "X,y = [],[] # X is the input, y is the Label\n",
    "count = 5\n",
    "for w in words[:5]: \n",
    "    print(w)\n",
    "    context = [0] * block_size\n",
    "    count += len(w)\n",
    "    for ch in w + '.': \n",
    "        ix = stoi[ch]\n",
    "        # print('ch:', ch)\n",
    "        # print('ix', ix)\n",
    "        X.append(context)\n",
    "        # print('context', context)\n",
    "        y.append(ix)\n",
    "        print(''.join([itos[i] for i in context]),'----->', itos[ix])\n",
    "        context = context[1:] + [ix] \n",
    "        \n",
    "print(count)\n",
    "X = torch.tensor(X)\n",
    "Y = torch.tensor(y)"
   ]
  },
  {
   "cell_type": "markdown",
   "metadata": {},
   "source": [
    "### Function Summary:\n",
    "\n",
    "This function converts words into training data by mapping characters to indices and storing them as tensors.  \n",
    "\n",
    "- **Block Size (`3`)**: Defines how many previous characters form the input.  \n",
    "- **`X` (Input) & `y` (Labels)**:  \n",
    "  - `X` stores context windows of size 3.  \n",
    "  - `y` stores the next character for each window.  \n",
    "- **Process**:  \n",
    "  1. Start with an empty context (`[0, 0, 0]`).  \n",
    "  2. Slide through each word (plus `.` at the end).  \n",
    "  3. Store the context in `X` and the next character in `y`.  \n",
    "  4. Shift the context and repeat.  \n",
    "- **Example (`\"emma\"`)**:  \n",
    "  ```\n",
    "  ...  → e  \n",
    "  ..e  → m  \n",
    "  .em  → m  \n",
    "  emm  → a  \n",
    "  mma  → .  \n",
    "  ```  \n",
    "- Finally, `X` and `y` are converted to PyTorch tensors."
   ]
  },
  {
   "cell_type": "code",
   "execution_count": 6,
   "metadata": {},
   "outputs": [
    {
     "data": {
      "text/plain": [
       "(torch.Size([32, 3]), torch.int64, torch.Size([32]), torch.int64)"
      ]
     },
     "execution_count": 6,
     "metadata": {},
     "output_type": "execute_result"
    }
   ],
   "source": [
    "X.shape, X.dtype, Y.shape, Y.dtype"
   ]
  },
  {
   "cell_type": "code",
   "execution_count": 7,
   "metadata": {},
   "outputs": [
    {
     "data": {
      "text/plain": [
       "(tensor([[ 0,  0,  0],\n",
       "         [ 0,  0,  5],\n",
       "         [ 0,  5, 13],\n",
       "         [ 5, 13, 13],\n",
       "         [13, 13,  1]]),\n",
       " tensor([ 5, 13, 13,  1,  0]))"
      ]
     },
     "execution_count": 7,
     "metadata": {},
     "output_type": "execute_result"
    }
   ],
   "source": [
    "X[:5], Y[:5] # Printing the first 5 rows of the (X) (Y) tensor\n",
    "\n",
    "# X defines the sequence of characters, and Y defines the next character prediction in the sequence"
   ]
  },
  {
   "cell_type": "markdown",
   "metadata": {},
   "source": [
    "As discussed before the dataset (X) resulted in 32 total rows, 5 empty intialization rows, and 27 variation rows that determine the next pattern. The block size determines how many characters will be remebered in the sequence. "
   ]
  },
  {
   "cell_type": "code",
   "execution_count": 8,
   "metadata": {},
   "outputs": [
    {
     "data": {
      "text/plain": [
       "torch.Size([32, 3, 2])"
      ]
     },
     "execution_count": 8,
     "metadata": {},
     "output_type": "execute_result"
    }
   ],
   "source": [
    "# C is the randome embedding matrix, with 27 rows and 2 columns\n",
    "C = torch.randn((27,2))\n",
    "\n",
    "# Embedding the input tensor X using the embedding matrix C\n",
    "embedding = C[X]\n",
    "embedding.shape"
   ]
  },
  {
   "cell_type": "markdown",
   "metadata": {},
   "source": [
    "**Embedding Summary**  \n",
    "\n",
    "- **Embeddings map characters to vectors** in a continuous space instead of treating them as separate symbols.  \n",
    "- **Initially random**, embeddings get optimized during training to capture character relationships.  \n",
    "- **Example:** A sequence `[0,0,5]` (where `5 = e`) retrieves vectors from an embedding matrix.  \n",
    "- **Training adjusts these vectors** so similar characters end up closer in space.  \n",
    "- **Benefit:** Helps the model understand patterns and improves predictions without manual rules.\n",
    "\n",
    "<div align = 'center'>\n",
    "    <img src=\"./2d_Vector_Embedding.png\" width=\"500\">\n",
    "<div>\n"
   ]
  },
  {
   "cell_type": "markdown",
   "metadata": {},
   "source": [
    "---"
   ]
  },
  {
   "cell_type": "markdown",
   "metadata": {},
   "source": [
    "# Step 2: Hidden Layers"
   ]
  },
  {
   "cell_type": "code",
   "execution_count": 9,
   "metadata": {},
   "outputs": [],
   "source": [
    "W1 = torch.randn((6,100)) # This is the weights that will be input to the first layer\n",
    "b1 = torch.randn((100)) # This is the bias that will be input to the first layer"
   ]
  },
  {
   "cell_type": "markdown",
   "metadata": {},
   "source": [
    "We flatten the embeddings from `torch.Size([32, 3, 2]) → torch.Size([32, 6])` to make them compatible for weight multiplication. This is done using `torch.cat`, which concatenates the matrix into a single vector per sample."
   ]
  },
  {
   "cell_type": "markdown",
   "metadata": {},
   "source": [
    "Method 1"
   ]
  },
  {
   "cell_type": "code",
   "execution_count": 10,
   "metadata": {},
   "outputs": [
    {
     "data": {
      "text/plain": [
       "torch.Size([32, 6])"
      ]
     },
     "execution_count": 10,
     "metadata": {},
     "output_type": "execute_result"
    }
   ],
   "source": [
    "torch.cat([embedding[:, 0, :], embedding[:, 1, :], embedding[:, 2, :]], 1).shape # Inefficent way of doing it due to new memory being created"
   ]
  },
  {
   "cell_type": "markdown",
   "metadata": {},
   "source": [
    "If the block size changes (e.g., from 3 to 5), the current approach would need manual updates. To avoid hardcoding, we use `torch.unbind`, which dynamically unravels the tensor, making the code more flexible."
   ]
  },
  {
   "cell_type": "code",
   "execution_count": 11,
   "metadata": {},
   "outputs": [
    {
     "data": {
      "text/plain": [
       "torch.Size([32, 6])"
      ]
     },
     "execution_count": 11,
     "metadata": {},
     "output_type": "execute_result"
    }
   ],
   "source": [
    "# Use of torch.unbind to \n",
    "# torch.unbind(embedding, 1)\n",
    "# This is equivalent to [embedding[:, 0, :], embedding[:, 1, :], embedding[:, 2, :]\n",
    "\n",
    "torch.cat(torch.unbind(embedding, 1), 1).shape\n",
    "# We get the same result as above and it is dynamic for block size"
   ]
  },
  {
   "cell_type": "markdown",
   "metadata": {},
   "source": [
    "Mehtod 2 More efficent"
   ]
  },
  {
   "cell_type": "markdown",
   "metadata": {},
   "source": [
    "We use `torch.view()` to reshape the tensor into any desired dimensions. For example, it allows us to convert a tensor from `torch.Size([32, 3, 2])` to `torch.Size([32, 6])` dynamically, making it adaptable to different input shapes."
   ]
  },
  {
   "cell_type": "code",
   "execution_count": 12,
   "metadata": {},
   "outputs": [
    {
     "data": {
      "text/plain": [
       "torch.Size([32, 6])"
      ]
     },
     "execution_count": 12,
     "metadata": {},
     "output_type": "execute_result"
    }
   ],
   "source": [
    "embedding.view(32,6) # This allows us to make the embedding matrix in a different shape\n",
    "embedding.view(32,6).shape\n",
    "# Testing similarity \n",
    "# embedding.view(32,6) == torch.cat(torch.unbind(embedding, 1), 1)"
   ]
  },
  {
   "cell_type": "code",
   "execution_count": 13,
   "metadata": {},
   "outputs": [
    {
     "data": {
      "text/plain": [
       "tensor([[ 0.4224,  0.0806, -0.0831,  ..., -2.2080,  2.0204,  4.3077],\n",
       "        [ 0.4335,  1.1128,  0.3140,  ..., -1.1884,  1.9151,  3.6025],\n",
       "        [-0.1176, -0.3584, -2.7237,  ..., -0.7868,  2.8766,  2.8699],\n",
       "        ...,\n",
       "        [-0.7861,  1.7516,  4.4418,  ..., -6.1124, -2.3208,  2.5561],\n",
       "        [ 3.0018,  2.2580,  9.5165,  ...,  0.7983, -0.6587,  1.3888],\n",
       "        [-0.1440,  2.3041, -0.7475,  ...,  2.3817,  1.4142, -0.1735]])"
      ]
     },
     "execution_count": 13,
     "metadata": {},
     "output_type": "execute_result"
    }
   ],
   "source": [
    "# So to multiply the weights with inputs \n",
    "h = embedding.view(32,6) @ W1 + b1\n",
    "h"
   ]
  },
  {
   "cell_type": "markdown",
   "metadata": {},
   "source": [
    "- **Multiplies** the **32 input vectors (each of size 6)** with **100 random intialized weights** from `W1 (6, 100)`.  \n",
    "- **Adds bias `b1`** for each of the 32 inputs, resulting in a final shape of `torch.Size([32, 100])`.  \n",
    "\n",
    "This transforms the input into a **100-dimensional hidden representation** for each sample."
   ]
  },
  {
   "cell_type": "markdown",
   "metadata": {},
   "source": [
    "Instead of hardcoding 32 as the batch size in view(32,6), we can use -1 to make the code adaptable to any batch size. (-1) tells PyTorch to automatically infer the correct batch size based on the input. Input Size = The number of features per sample, Batch Size = The number of samples processed at once in a single forward pass."
   ]
  },
  {
   "cell_type": "code",
   "execution_count": 14,
   "metadata": {},
   "outputs": [
    {
     "data": {
      "text/plain": [
       "tensor([[ 0.4224,  0.0806, -0.0831,  ..., -2.2080,  2.0204,  4.3077],\n",
       "        [ 0.4335,  1.1128,  0.3140,  ..., -1.1884,  1.9151,  3.6025],\n",
       "        [-0.1176, -0.3584, -2.7237,  ..., -0.7868,  2.8766,  2.8699],\n",
       "        ...,\n",
       "        [-0.7861,  1.7516,  4.4418,  ..., -6.1124, -2.3208,  2.5561],\n",
       "        [ 3.0018,  2.2580,  9.5165,  ...,  0.7983, -0.6587,  1.3888],\n",
       "        [-0.1440,  2.3041, -0.7475,  ...,  2.3817,  1.4142, -0.1735]])"
      ]
     },
     "execution_count": 14,
     "metadata": {},
     "output_type": "execute_result"
    }
   ],
   "source": [
    "# Using -1 for dynamic block size\n",
    "h = embedding.view(-1,6) @ W1 + b1\n",
    "h"
   ]
  },
  {
   "cell_type": "markdown",
   "metadata": {},
   "source": [
    "---"
   ]
  },
  {
   "cell_type": "markdown",
   "metadata": {},
   "source": [
    "# Step 3: Softmax Layer"
   ]
  },
  {
   "cell_type": "code",
   "execution_count": 15,
   "metadata": {},
   "outputs": [],
   "source": [
    "W2 = torch.randn((100,27)) \n",
    "b2 = torch.randn((27))"
   ]
  },
  {
   "cell_type": "code",
   "execution_count": 16,
   "metadata": {},
   "outputs": [
    {
     "data": {
      "text/plain": [
       "torch.Size([32, 27])"
      ]
     },
     "execution_count": 16,
     "metadata": {},
     "output_type": "execute_result"
    }
   ],
   "source": [
    "logits = h @ W2 + b2 # Hidden layers are multiplied by weights of softmax layer and bias are added \n",
    "logits.shape"
   ]
  },
  {
   "cell_type": "code",
   "execution_count": 17,
   "metadata": {},
   "outputs": [],
   "source": [
    "counts = logits.exp() # Taking the exponential of the logits "
   ]
  },
  {
   "cell_type": "code",
   "execution_count": 18,
   "metadata": {},
   "outputs": [
    {
     "name": "stdout",
     "output_type": "stream",
     "text": [
      "torch.Size([32, 27])\n",
      "tensor(1.)\n"
     ]
    }
   ],
   "source": [
    "# Normalizing the counts to get the probability of each character\n",
    "prob = counts / counts.sum(1, keepdim=True)\n",
    "print(prob.shape) # should return 32, 27, for 32 sameples and 27 characters\n",
    "\n",
    "print(prob[0].sum()) # The sume of the probabilities should be 1"
   ]
  },
  {
   "cell_type": "code",
   "execution_count": 19,
   "metadata": {},
   "outputs": [
    {
     "data": {
      "text/plain": [
       "tensor([4.2885e-18, 5.5947e-30, 3.1483e-32, 5.7484e-09, 7.4170e-17, 2.6136e-10,\n",
       "        2.5237e-29, 2.6850e-21, 4.5206e-42, 5.2212e-18, 9.2960e-20, 1.8760e-35,\n",
       "        1.3772e-04, 2.2726e-41, 2.8684e-08, 6.2182e-36, 2.0051e-13, 2.5182e-25,\n",
       "        5.6042e-18, 1.0096e-21, 1.2250e-23, 1.4231e-17, 8.7150e-14, 2.4443e-13,\n",
       "        2.9141e-16, 1.0183e-22, 2.5092e-22, 2.1931e-28, 0.0000e+00, 2.7310e-01,\n",
       "        1.5461e-15, 4.5403e-27])"
      ]
     },
     "execution_count": 19,
     "metadata": {},
     "output_type": "execute_result"
    }
   ],
   "source": [
    "prob[torch.arange(32), Y] # This is the probability of the correct character"
   ]
  },
  {
   "cell_type": "code",
   "execution_count": 20,
   "metadata": {},
   "outputs": [
    {
     "data": {
      "text/plain": [
       "tensor(inf)"
      ]
     },
     "execution_count": 20,
     "metadata": {},
     "output_type": "execute_result"
    }
   ],
   "source": [
    "loss = - prob[torch.arange(32), Y].log().mean() # This is the loss function\n",
    "loss"
   ]
  },
  {
   "cell_type": "markdown",
   "metadata": {},
   "source": [
    "---"
   ]
  },
  {
   "cell_type": "markdown",
   "metadata": {},
   "source": [
    "# Cleaned Up Full MLP"
   ]
  },
  {
   "cell_type": "code",
   "execution_count": 21,
   "metadata": {},
   "outputs": [
    {
     "data": {
      "text/plain": [
       "(torch.Size([32, 3]), torch.Size([32]))"
      ]
     },
     "execution_count": 21,
     "metadata": {},
     "output_type": "execute_result"
    }
   ],
   "source": [
    "X.shape, Y.shape # data set "
   ]
  },
  {
   "cell_type": "code",
   "execution_count": 22,
   "metadata": {},
   "outputs": [],
   "source": [
    "# Step 1\n",
    "g = torch.Generator().manual_seed(494949) # Seed for reproducibility\n",
    "C = torch.rand((27,2), generator=g) # Random embedding matrix\n",
    "\n",
    "#Step 2\n",
    "W1 = torch.rand((6,100), generator=g) # Random weights for the first layer\n",
    "b1 = torch.rand((100), generator=g) # Random bias for the first layer\n",
    "\n",
    "#Step 3\n",
    "W2 = torch.rand((100,27), generator=g) # Random weights for the Softmax layer\n",
    "b2 = torch.rand((27), generator=g) # Random bias for the Softmax layer\n",
    "params = [C, W1, b1, W2, b2] # Parameters for the model"
   ]
  },
  {
   "cell_type": "code",
   "execution_count": 23,
   "metadata": {},
   "outputs": [
    {
     "name": "stdout",
     "output_type": "stream",
     "text": [
      "Total Number of Parameters:  3481\n"
     ]
    }
   ],
   "source": [
    "print('Total Number of Parameters: ', sum(p.nelement() for p in params)) # Total number of parameters in the model"
   ]
  },
  {
   "cell_type": "code",
   "execution_count": 24,
   "metadata": {},
   "outputs": [
    {
     "data": {
      "text/plain": [
       "tensor(6.7902)"
      ]
     },
     "execution_count": 24,
     "metadata": {},
     "output_type": "execute_result"
    }
   ],
   "source": [
    "embedding = C[X] # Embedding the input tensor X using the embedding matrix C\n",
    "h = torch.tanh(embedding.view(-1,6) @ W1 + b1) # Hidden layer\n",
    "logits = h @ W2 + b2 # Logits\n",
    "counts = logits.exp() # Exponential of the logits\n",
    "prob = counts / counts.sum(1, keepdim=True) # Normalizing the counts\n",
    "loss = - prob[torch.arange(32), Y].log().mean() # Loss function\n",
    "loss "
   ]
  },
  {
   "cell_type": "markdown",
   "metadata": {},
   "source": [
    "Instead of manually implementing the **cross-entropy loss function**, we use PyTorch’s built-in `torch.nn.functional.cross_entropy()`, which is more **optimized and efficient**.  \n",
    "\n",
    "Unlike a manual implementation, this **does not create extra tensors** for computation. Instead, it clusters operations together, making it **faster** and more **memory-efficient**.  "
   ]
  },
  {
   "cell_type": "code",
   "execution_count": 25,
   "metadata": {},
   "outputs": [],
   "source": [
    "for p in params: \n",
    "    p.requires_grad_() # Setting the requires_grad to True for all the parameters"
   ]
  },
  {
   "cell_type": "code",
   "execution_count": 26,
   "metadata": {},
   "outputs": [
    {
     "name": "stdout",
     "output_type": "stream",
     "text": [
      "0.2718518376350403\n"
     ]
    }
   ],
   "source": [
    "\n",
    "# Training the model for 100 epochs\n",
    "for _ in range(1000): \n",
    "    # Forward pass\n",
    "    embedding = C[X] # Embedding the input tensor X using the embedding matrix C\n",
    "    h = torch.tanh(embedding.view(-1,6) @ W1 + b1) # Hidden layer\n",
    "    logits = h @ W2 + b2 # Logits\n",
    "    loss = F.cross_entropy(logits, Y) # Cross entropy loss function\n",
    "    \n",
    "    # Backward pass (Gradient descent)\n",
    "    for p in params: \n",
    "        p.grad = None\n",
    "    loss.backward()\n",
    "\n",
    "    #update the parameters\n",
    "    for p in params: \n",
    "        p.data += -0.1 * p.grad\n",
    "    \n",
    "print(loss.item())"
   ]
  },
  {
   "cell_type": "markdown",
   "metadata": {},
   "source": [
    "Even with just **5 words**, the loss dropped from **6.6207 → 0.2613**, but **not to 0**.  \n",
    "\n",
    "This happens because the **first character of each word is unpredictable**—the model starts with an **empty context**, meaning **any letter has an equal probability of being the first prediction**.  "
   ]
  },
  {
   "cell_type": "markdown",
   "metadata": {},
   "source": [
    "# Now Training on the full dataset"
   ]
  },
  {
   "cell_type": "code",
   "execution_count": 27,
   "metadata": {},
   "outputs": [],
   "source": [
    "# This is the block size for how big the input is going to be for the MLP\n",
    "block_size = 3\n",
    "\n",
    "X,y = [],[] # X is the input, y is the Label\n",
    "\n",
    "for w in words: \n",
    "    context = [0] * block_size\n",
    "    for ch in w + '.': \n",
    "        ix = stoi[ch]\n",
    "        X.append(context)\n",
    "        y.append(ix)\n",
    "        context = context[1:] + [ix] \n",
    "        \n",
    "X = torch.tensor(X)\n",
    "Y = torch.tensor(y)"
   ]
  },
  {
   "cell_type": "code",
   "execution_count": 28,
   "metadata": {},
   "outputs": [
    {
     "data": {
      "text/plain": [
       "(torch.Size([228146, 3]), torch.int64, torch.Size([228146]), torch.int64)"
      ]
     },
     "execution_count": 28,
     "metadata": {},
     "output_type": "execute_result"
    }
   ],
   "source": [
    "X.shape, X.dtype, Y.shape, Y.dtype\n",
    "# Now we have 228146 samples and 3 characters in each sample"
   ]
  },
  {
   "cell_type": "code",
   "execution_count": 29,
   "metadata": {},
   "outputs": [],
   "source": [
    "# Step 1\n",
    "g = torch.Generator().manual_seed(242424) # Seed for reproducibility\n",
    "C = torch.rand((27,2), generator=g) # Random embedding matrix\n",
    "\n",
    "#Step 2\n",
    "W1 = torch.rand((6,100), generator=g) # Random weights for the first layer\n",
    "b1 = torch.rand((100), generator=g) # Random bias for the first layer\n",
    "\n",
    "#Step 3\n",
    "W2 = torch.rand((100,27), generator=g) # Random weights for the Softmax layer\n",
    "b2 = torch.rand((27), generator=g) # Random bias for the Softmax layer\n",
    "params = [C, W1, b1, W2, b2] # Parameters for the model"
   ]
  },
  {
   "cell_type": "code",
   "execution_count": 30,
   "metadata": {},
   "outputs": [],
   "source": [
    "for p in params: \n",
    "    p.requires_grad_() # Setting the requires_grad to True for all the parameters"
   ]
  },
  {
   "cell_type": "code",
   "execution_count": 31,
   "metadata": {},
   "outputs": [
    {
     "name": "stdout",
     "output_type": "stream",
     "text": [
      "6.896918296813965\n",
      "4.476920127868652\n",
      "3.65630841255188\n",
      "3.3312156200408936\n",
      "3.1505680084228516\n",
      "3.023245334625244\n",
      "2.9430642127990723\n",
      "2.9014089107513428\n",
      "2.8804824352264404\n",
      "2.8679776191711426\n",
      "2.859326124191284\n",
      "2.8529152870178223\n",
      "2.8479676246643066\n",
      "2.844022512435913\n",
      "2.8407864570617676\n",
      "2.838069200515747\n",
      "2.8357434272766113\n",
      "2.833721399307251\n",
      "2.8319427967071533\n",
      "2.8303616046905518\n",
      "2.828947067260742\n",
      "2.8276729583740234\n",
      "2.8265187740325928\n",
      "2.8254683017730713\n",
      "2.824509620666504\n",
      "2.823629379272461\n",
      "2.8228185176849365\n",
      "2.822068691253662\n",
      "2.82137131690979\n",
      "2.820718765258789\n",
      "2.8201065063476562\n",
      "2.8195266723632812\n",
      "2.818976402282715\n",
      "2.818449020385742\n",
      "2.8179426193237305\n",
      "2.8174526691436768\n",
      "2.816976308822632\n",
      "2.8165109157562256\n",
      "2.8160531520843506\n",
      "2.8156027793884277\n",
      "2.8151557445526123\n",
      "2.814711570739746\n",
      "2.8142688274383545\n",
      "2.8138256072998047\n",
      "2.8133809566497803\n",
      "2.8129336833953857\n",
      "2.812483310699463\n",
      "2.812028169631958\n",
      "2.8115668296813965\n",
      "2.811100959777832\n",
      "2.81062650680542\n",
      "2.8101444244384766\n",
      "2.809652805328369\n",
      "2.809152364730835\n",
      "2.8086416721343994\n",
      "2.808120012283325\n",
      "2.8075854778289795\n",
      "2.807039737701416\n",
      "2.8064796924591064\n",
      "2.805906057357788\n",
      "2.805316925048828\n",
      "2.8047120571136475\n",
      "2.804091453552246\n",
      "2.803452730178833\n",
      "2.8027961254119873\n",
      "2.8021209239959717\n",
      "2.8014261722564697\n",
      "2.8007113933563232\n",
      "2.7999746799468994\n",
      "2.7992165088653564\n",
      "2.7984347343444824\n",
      "2.797630786895752\n",
      "2.796802043914795\n",
      "2.7959492206573486\n",
      "2.7950711250305176\n",
      "2.7941668033599854\n",
      "2.79323673248291\n",
      "2.7922799587249756\n",
      "2.79129695892334\n",
      "2.7902867794036865\n",
      "2.7892489433288574\n",
      "2.788184881210327\n",
      "2.787095308303833\n",
      "2.7859785556793213\n",
      "2.7848379611968994\n",
      "2.7836711406707764\n",
      "2.782482147216797\n",
      "2.7812702655792236\n",
      "2.780038595199585\n",
      "2.778787136077881\n",
      "2.7775187492370605\n",
      "2.7762351036071777\n",
      "2.7749385833740234\n",
      "2.773630380630493\n",
      "2.7723140716552734\n",
      "2.770991802215576\n",
      "2.7696661949157715\n",
      "2.768338203430176\n",
      "2.767012596130371\n",
      "2.7656891345977783\n"
     ]
    }
   ],
   "source": [
    "# (Full-Batch Training)\n",
    "\n",
    "# Training the model for 100 epochs\n",
    "for _ in range(100): \n",
    "    # Forward pass\n",
    "    embedding = C[X] # Embedding the input tensor X using the embedding matrix C\n",
    "    h = torch.tanh(embedding.view(-1,6) @ W1 + b1) # Hidden layer\n",
    "    logits = h @ W2 + b2 # Logits\n",
    "    loss = F.cross_entropy(logits, Y) # Cross entropy loss function\n",
    "    print(loss.item())\n",
    "    # Backward pass (Gradient descent)\n",
    "    for p in params: \n",
    "        p.grad = None\n",
    "    loss.backward()\n",
    "\n",
    "    #update the parameters\n",
    "    for p in params: \n",
    "        p.data += -0.1 * p.grad\n",
    "    \n"
   ]
  },
  {
   "cell_type": "markdown",
   "metadata": {},
   "source": [
    "### This process is taking too long because it performs a backward pass on every individual sample. A more efficient and commonly used strategy is to accumulate batches of samples and only run the backward pass on these mini-batches, rather than doing it for each sample or only once every epoch."
   ]
  },
  {
   "cell_type": "markdown",
   "metadata": {},
   "source": [
    "---"
   ]
  },
  {
   "cell_type": "markdown",
   "metadata": {},
   "source": [
    "# Full Training with Mini-Batch optimization"
   ]
  },
  {
   "cell_type": "code",
   "execution_count": 32,
   "metadata": {},
   "outputs": [
    {
     "data": {
      "text/plain": [
       "tensor([0, 3, 2, 1, 2, 4, 2, 1, 0, 4, 1, 1, 1, 0, 2, 1, 0, 0, 0, 3, 1, 4, 1, 4,\n",
       "        2, 2, 4, 1, 3, 3, 1, 4])"
      ]
     },
     "execution_count": 32,
     "metadata": {},
     "output_type": "execute_result"
    }
   ],
   "source": [
    "torch.randint(0, 5, (32,))"
   ]
  },
  {
   "cell_type": "markdown",
   "metadata": {},
   "source": [
    "**This function generates an array of 32 digits randomly that are between 0-5. We can use this funtionality on to produce minibatches from our dataset.**"
   ]
  },
  {
   "cell_type": "code",
   "execution_count": 33,
   "metadata": {},
   "outputs": [
    {
     "name": "stdout",
     "output_type": "stream",
     "text": [
      "2.8847053050994873\n",
      "2.7311527729034424\n",
      "2.916980028152466\n",
      "2.8220932483673096\n",
      "2.950535297393799\n",
      "3.065720319747925\n",
      "2.5892081260681152\n",
      "2.7592172622680664\n",
      "2.979168176651001\n",
      "2.848599433898926\n",
      "2.8047873973846436\n",
      "2.714953660964966\n",
      "2.77398419380188\n",
      "2.7361083030700684\n",
      "3.3289566040039062\n",
      "2.8926572799682617\n",
      "2.781653881072998\n",
      "2.8973894119262695\n",
      "2.707707166671753\n",
      "2.7518696784973145\n",
      "2.8566346168518066\n",
      "2.3971445560455322\n",
      "2.745220899581909\n",
      "2.949542760848999\n",
      "3.1972897052764893\n",
      "2.9162373542785645\n",
      "2.510418176651001\n",
      "3.0068199634552\n",
      "2.8158912658691406\n",
      "2.6291110515594482\n",
      "2.6987574100494385\n",
      "2.972306966781616\n",
      "3.09956955909729\n",
      "2.897442102432251\n",
      "2.4859414100646973\n",
      "2.9215803146362305\n",
      "2.9073636531829834\n",
      "2.756169557571411\n",
      "2.9207074642181396\n",
      "2.5317189693450928\n",
      "2.701770305633545\n",
      "2.9801459312438965\n",
      "2.6830053329467773\n",
      "2.8954803943634033\n",
      "3.0044093132019043\n",
      "2.974919319152832\n",
      "2.7279038429260254\n",
      "3.0028884410858154\n",
      "2.5379905700683594\n",
      "2.782975435256958\n",
      "2.701331377029419\n",
      "2.6398251056671143\n",
      "2.9306960105895996\n",
      "2.486661672592163\n",
      "2.811873435974121\n",
      "2.8283963203430176\n",
      "2.643047571182251\n",
      "2.7480504512786865\n",
      "2.8816280364990234\n",
      "3.0097849369049072\n",
      "2.567183494567871\n",
      "2.766390323638916\n",
      "2.7410662174224854\n",
      "2.6254100799560547\n",
      "3.0129685401916504\n",
      "3.0102548599243164\n",
      "2.944028615951538\n",
      "2.86393404006958\n",
      "2.870905876159668\n",
      "2.7764363288879395\n",
      "2.549592971801758\n",
      "2.6125166416168213\n",
      "2.821192502975464\n",
      "2.629443407058716\n",
      "2.8736047744750977\n",
      "2.5488076210021973\n",
      "2.577894926071167\n",
      "2.648932695388794\n",
      "2.9573891162872314\n",
      "3.1269631385803223\n",
      "2.855693817138672\n",
      "2.5628881454467773\n",
      "2.9083309173583984\n",
      "2.5105457305908203\n",
      "2.8651039600372314\n",
      "2.8839969635009766\n",
      "2.669919490814209\n",
      "2.6414339542388916\n",
      "2.8764617443084717\n",
      "3.1436960697174072\n",
      "2.953122854232788\n",
      "2.58878493309021\n",
      "2.603717803955078\n",
      "2.5667595863342285\n",
      "2.639211893081665\n",
      "2.4959466457366943\n",
      "2.9128243923187256\n",
      "2.569159746170044\n",
      "2.9975788593292236\n",
      "2.6709401607513428\n"
     ]
    }
   ],
   "source": [
    "# (Mini-Batch Training)\n",
    "\n",
    "# Training the model for 100 epochs\n",
    "for _ in range(100): \n",
    "    \n",
    "    #Mini batch Construction\n",
    "    ix = torch.randint(0, X.shape[0], (32,)) # Randomly selecting 32 indexes from dataset storing it in ix\n",
    "    \n",
    "    # Forward pass\n",
    "    embedding = C[X[ix]] # using the randomly selected indexes to get the embedding matrix\n",
    "    h = torch.tanh(embedding.view(-1,6) @ W1 + b1) # Hidden layer\n",
    "    logits = h @ W2 + b2 # Logits\n",
    "    loss = F.cross_entropy(logits, Y[ix]) # Cross entropy loss function\n",
    "    print(loss.item())\n",
    "    # Backward pass (Gradient descent)\n",
    "    for p in params: \n",
    "        p.grad = None\n",
    "    loss.backward()\n",
    "\n",
    "    #update the parameters\n",
    "    for p in params: \n",
    "        p.data += -0.1 * p.grad\n",
    "    \n"
   ]
  },
  {
   "cell_type": "markdown",
   "metadata": {},
   "source": [
    "We can see that now using mini-batches the speed dropped from 45 sec. to instant after the mini-batch ruling was applied this drastically reduced computation. \n",
    "\n",
    "- (Mini-Batch Training) significantly reduces computational cost per iteration by only computing gradients on a small subset of the data.\n",
    "- (Full-Batch Training) requires computing gradients over the entire dataset, making it slower and potentially impractical for large datasets.\n",
    "\n",
    "\n",
    "<div align = 'center'>\n",
    "    <img src=\"./Mini-batch_gradient_descent.webp\" width=\"500\">\n",
    "<div>\n"
   ]
  },
  {
   "cell_type": "markdown",
   "metadata": {},
   "source": [
    "# Learning Rate Optimization\n",
    "### Now we will look at the learning rate and how we can find the most optimal solution, common practice cross-validation"
   ]
  },
  {
   "cell_type": "markdown",
   "metadata": {},
   "source": [
    "**Reset Variables**"
   ]
  },
  {
   "cell_type": "code",
   "execution_count": 46,
   "metadata": {},
   "outputs": [],
   "source": [
    "# This is the block size for how big the input is going to be for the MLP\n",
    "block_size = 3\n",
    "\n",
    "X,y = [],[] # X is the input, y is the Label\n",
    "\n",
    "for w in words: \n",
    "    context = [0] * block_size\n",
    "    for ch in w + '.': \n",
    "        ix = stoi[ch]\n",
    "        X.append(context)\n",
    "        y.append(ix)\n",
    "        context = context[1:] + [ix] \n",
    "        \n",
    "X = torch.tensor(X)\n",
    "Y = torch.tensor(y)\n",
    "\n",
    "# Step 1\n",
    "g = torch.Generator().manual_seed(242424) # Seed for reproducibility\n",
    "C = torch.rand((27,2), generator=g) # Random embedding matrix\n",
    "\n",
    "#Step 2\n",
    "W1 = torch.rand((6,100), generator=g) # Random weights for the first layer\n",
    "b1 = torch.rand((100), generator=g) # Random bias for the first layer\n",
    "\n",
    "#Step 3\n",
    "W2 = torch.rand((100,27), generator=g) # Random weights for the Softmax layer\n",
    "b2 = torch.rand((27), generator=g) # Random bias for the Softmax layer\n",
    "params = [C, W1, b1, W2, b2] # Parameters for the model\n",
    "\n",
    "for p in params: \n",
    "    p.requires_grad_() # Setting the requires_grad to True for all the parameters"
   ]
  },
  {
   "cell_type": "markdown",
   "metadata": {},
   "source": [
    "---"
   ]
  },
  {
   "cell_type": "code",
   "execution_count": 47,
   "metadata": {},
   "outputs": [],
   "source": [
    "# We determine the learing rate from the range 0f 10^-3 to 10^1\n",
    "lre = torch.linspace(-3, 0,10000)\n",
    "lrs = 10**lre"
   ]
  },
  {
   "cell_type": "code",
   "execution_count": null,
   "metadata": {},
   "outputs": [
    {
     "data": {
      "text/plain": [
       "2.4009056091308594"
      ]
     },
     "execution_count": 64,
     "metadata": {},
     "output_type": "execute_result"
    }
   ],
   "source": [
    "# (Mini-Batch Training)\n",
    "\n",
    "lri = [] # Stored list for the learning rate\n",
    "lossi = [] # Loss list of the model for the selected learning rate\n",
    "\n",
    "for i in range(10000): \n",
    "    \n",
    "    #Mini batch Construction\n",
    "    ix = torch.randint(0, X.shape[0], (32,))\n",
    "    \n",
    "    # Forward pass\n",
    "    embedding = C[X[ix]] \n",
    "    h = torch.tanh(embedding.view(-1,6) @ W1 + b1) \n",
    "    logits = h @ W2 + b2\n",
    "    loss = F.cross_entropy(logits, Y[ix]) \n",
    "\n",
    "    for p in params: \n",
    "        p.grad = None\n",
    "    loss.backward()\n",
    "\n",
    "    lr = lrs[i]\n",
    "    for p in params: \n",
    "        p.data += -lr * p.grad # The -0.1 here is the learning rate\n",
    "    \n",
    "    lri.append(lre[i])\n",
    "    lossi.append(loss.item())\n",
    "\n",
    "loss.item()\n"
   ]
  },
  {
   "cell_type": "code",
   "execution_count": 49,
   "metadata": {},
   "outputs": [
    {
     "data": {
      "image/png": "[encoded data removed]",
      "text/plain": [
       "<Figure size 640x480 with 1 Axes>"
      ]
     },
     "metadata": {},
     "output_type": "display_data"
    }
   ],
   "source": [
    "plt.plot(lri, lossi)\n",
    "plt.show()"
   ]
  },
  {
   "cell_type": "markdown",
   "metadata": {},
   "source": [
    "### In this we can see that the most optimal learning rate is for most optimal results. "
   ]
  },
  {
   "cell_type": "markdown",
   "metadata": {},
   "source": [
    "# Splitting Data - Prevent Overfitting\n",
    "### Best way to prevent overfitting of a LLM is to split the dataset into 3 for training split, dev/validation split, and test split: 80%, 10%, 10%"
   ]
  },
  {
   "cell_type": "markdown",
   "metadata": {},
   "source": [
    "### Reset Variables"
   ]
  },
  {
   "cell_type": "code",
   "execution_count": 81,
   "metadata": {},
   "outputs": [],
   "source": [
    "# This is same code as before but now optimized to call for each split dataset\n",
    "def build_dataset(words): \n",
    "    block_size = 3\n",
    "\n",
    "    X,y = [],[]\n",
    "\n",
    "    for w in words: \n",
    "        context = [0] * block_size\n",
    "        for ch in w + '.': \n",
    "            ix = stoi[ch]\n",
    "            X.append(context)\n",
    "            y.append(ix)\n",
    "            context = context[1:] + [ix] \n",
    "            \n",
    "    X = torch.tensor(X)\n",
    "    Y = torch.tensor(y)\n",
    "    \n",
    "    return X,Y\n",
    "\n",
    "\n",
    "# Setting Model Parameters\n",
    "g = torch.Generator().manual_seed(242424) # Seed for reproducibility\n",
    "C = torch.rand((27,2), generator=g) # Random embedding matrix\n",
    "\n",
    "#Step 2\n",
    "W1 = torch.rand((6,100), generator=g) # Random weights for the first layer\n",
    "b1 = torch.rand((100), generator=g) # Random bias for the first layer\n",
    "\n",
    "#Step 3\n",
    "W2 = torch.rand((100,27), generator=g) # Random weights for the Softmax layer\n",
    "b2 = torch.rand((27), generator=g) # Random bias for the Softmax layer\n",
    "params = [C, W1, b1, W2, b2] # Parameters for the model\n",
    "\n",
    "for p in params: \n",
    "    p.requires_grad_() # Setting the requires_grad to True for all the parameters"
   ]
  },
  {
   "cell_type": "markdown",
   "metadata": {},
   "source": [
    "### Split the Dataset"
   ]
  },
  {
   "cell_type": "code",
   "execution_count": 82,
   "metadata": {},
   "outputs": [
    {
     "name": "stdout",
     "output_type": "stream",
     "text": [
      "Total words: 32033\n",
      "Training set range: (0 - 25626)\n",
      "Validation set range: (25626 - 28829)\n",
      "Testing set range: (28829 - 32033)\n"
     ]
    }
   ],
   "source": [
    "import random\n",
    "\n",
    "random.seed(1222)\n",
    "random.shuffle(words)\n",
    "\n",
    "n1 = int(len(words) * 0.8)\n",
    "n2 = int(len(words) * 0.9)\n",
    "\n",
    "print(f\"Total words: {len(words)}\")\n",
    "print(f\"Training set range: (0 - {n1})\")\n",
    "print(f\"Validation set range: ({n1} - {n2})\")\n",
    "print(f\"Testing set range: ({n2} - {len(words)})\")\n",
    "\n",
    "\n",
    "Xtrain, Ytrain = build_dataset(words[:n1])\n",
    "Xval, Yval = build_dataset(words[n1:n2])\n",
    "Xtest, Ytest = build_dataset(words[n2:])\n"
   ]
  },
  {
   "cell_type": "code",
   "execution_count": 83,
   "metadata": {},
   "outputs": [
    {
     "data": {
      "text/plain": [
       "(torch.Size([182467, 3]),\n",
       " torch.Size([182467]),\n",
       " torch.Size([22922, 3]),\n",
       " torch.Size([22922]),\n",
       " torch.Size([22757, 3]),\n",
       " torch.Size([22757]))"
      ]
     },
     "execution_count": 83,
     "metadata": {},
     "output_type": "execute_result"
    }
   ],
   "source": [
    "Xtrain.shape, Ytrain.shape, Xval.shape, Yval.shape, Xtest.shape, Ytest.shape"
   ]
  },
  {
   "cell_type": "code",
   "execution_count": 84,
   "metadata": {},
   "outputs": [
    {
     "data": {
      "text/plain": [
       "2.5406975746154785"
      ]
     },
     "execution_count": 84,
     "metadata": {},
     "output_type": "execute_result"
    }
   ],
   "source": [
    "# Setting the dataset/labels for the training set\n",
    "Dataset = Xtrain\n",
    "Labels = Ytrain\n",
    "\n",
    "\n",
    "for i in range(30000): \n",
    "    \n",
    "    #Mini batch Construction\n",
    "    ix = torch.randint(0, Dataset.shape[0], (32,))\n",
    "    \n",
    "    # Forward pass\n",
    "    embedding = C[Dataset[ix]] \n",
    "    h = torch.tanh(embedding.view(-1,6) @ W1 + b1) \n",
    "    logits = h @ W2 + b2\n",
    "    loss = F.cross_entropy(logits, Labels[ix]) \n",
    "\n",
    "    for p in params: \n",
    "        p.grad = None\n",
    "    loss.backward()\n",
    "\n",
    "    lr = .1 # Learning rate\n",
    "    for p in params: \n",
    "        p.data += -lr * p.grad \n",
    "\n",
    "loss.item()\n"
   ]
  },
  {
   "cell_type": "markdown",
   "metadata": {},
   "source": [
    "### Testing the Validation set\n",
    "**Testing the model on validation set to see if model is overfitting**"
   ]
  },
  {
   "cell_type": "code",
   "execution_count": null,
   "metadata": {},
   "outputs": [
    {
     "data": {
      "text/plain": [
       "2.3345775604248047"
      ]
     },
     "execution_count": 85,
     "metadata": {},
     "output_type": "execute_result"
    }
   ],
   "source": [
    "dataset = Xval\n",
    "labels = Yval   \n",
    "   \n",
    "embedding = C[dataset[ix]] \n",
    "h = torch.tanh(embedding.view(-1,6) @ W1 + b1) \n",
    "logits = h @ W2 + b2\n",
    "loss = F.cross_entropy(logits, labels[ix]) \n",
    "loss"
   ]
  },
  {
   "cell_type": "code",
   "execution_count": null,
   "metadata": {},
   "outputs": [
    {
     "data": {
      "text/plain": [
       "2.33760929107666"
      ]
     },
     "execution_count": 86,
     "metadata": {},
     "output_type": "execute_result"
    }
   ],
   "source": [
    "dataset = Xtest\n",
    "labels = Ytest   \n",
    "   \n",
    "embedding = C[dataset[ix]] \n",
    "h = torch.tanh(embedding.view(-1,6) @ W1 + b1) \n",
    "logits = h @ W2 + b2\n",
    "loss = F.cross_entropy(logits, labels[ix]) \n",
    "loss"
   ]
  },
  {
   "cell_type": "markdown",
   "metadata": {},
   "source": [
    "### Here we can see that the loss of the Validation and Testing set, are roughly equal. This can indicate that the model is under fitting. "
   ]
  },
  {
   "cell_type": "markdown",
   "metadata": {},
   "source": [
    "### We will need to optimize the network in order to perfrom better, we can do this by increasing the networks parameters to better fit the dataset. "
   ]
  },
  {
   "cell_type": "markdown",
   "metadata": {},
   "source": [
    "# Increasing the Size of the N.N. \n",
    "**We can increase the Parameters of the Neural Network, inorder for it to better fit the data**"
   ]
  },
  {
   "cell_type": "markdown",
   "metadata": {},
   "source": [
    "### Increasing the Neurons in the Hidden Layer (Step 2)"
   ]
  },
  {
   "cell_type": "code",
   "execution_count": 93,
   "metadata": {},
   "outputs": [],
   "source": [
    "# Funtion for the datasets\n",
    "\n",
    "def build_dataset(words): \n",
    "    block_size = 3\n",
    "\n",
    "    X,y = [],[]\n",
    "\n",
    "    for w in words: \n",
    "        context = [0] * block_size\n",
    "        for ch in w + '.': \n",
    "            ix = stoi[ch]\n",
    "            X.append(context)\n",
    "            y.append(ix)\n",
    "            context = context[1:] + [ix] \n",
    "            \n",
    "    X = torch.tensor(X)\n",
    "    Y = torch.tensor(y)\n",
    "    \n",
    "    return X,Y\n"
   ]
  },
  {
   "cell_type": "code",
   "execution_count": 94,
   "metadata": {},
   "outputs": [
    {
     "name": "stdout",
     "output_type": "stream",
     "text": [
      "New # of Parameters: 10281\n"
     ]
    }
   ],
   "source": [
    "# Setting Model Parameters\n",
    "g = torch.Generator().manual_seed(242424) \n",
    "C = torch.rand((27,2), generator=g)\n",
    "\n",
    "#Step 2\n",
    "W1 = torch.rand((6,300), generator=g) # Changed hidden layer neurons from 100 to 300\n",
    "b1 = torch.rand((300), generator=g)  # Changed bias from 100 to 300\n",
    "\n",
    "#Step 3\n",
    "W2 = torch.rand((300,27), generator=g) # Changed softmax layer input from 100 to 300\n",
    "b2 = torch.rand((27), generator=g)\n",
    "params = [C, W1, b1, W2, b2] \n",
    "\n",
    "for p in params: \n",
    "    p.requires_grad_() \n",
    "    \n",
    "print('New # of Parameters:', sum(p.nelement() for p in params))"
   ]
  },
  {
   "cell_type": "code",
   "execution_count": null,
   "metadata": {},
   "outputs": [
    {
     "data": {
      "text/plain": [
       "2.4074318408966064"
      ]
     },
     "execution_count": 95,
     "metadata": {},
     "output_type": "execute_result"
    }
   ],
   "source": [
    "# (Mini-Batch Training)\n",
    "dataset = Xtrain\n",
    "labels = Ytrain\n",
    "\n",
    "lossi = [] # Loss list of the model for the selected learning rate\n",
    "steps = [] \n",
    "\n",
    "for i in range(30000): \n",
    "    \n",
    "    #Mini batch Construction\n",
    "    ix = torch.randint(0, dataset.shape[0], (32,))\n",
    "    \n",
    "    # Forward pass\n",
    "    embedding = C[dataset[ix]] \n",
    "    h = torch.tanh(embedding.view(-1,6) @ W1 + b1) \n",
    "    logits = h @ W2 + b2\n",
    "    loss = F.cross_entropy(logits, labels[ix]) \n",
    "\n",
    "    for p in params: \n",
    "        p.grad = None\n",
    "    loss.backward()\n",
    "\n",
    "    lr = .1\n",
    "    for p in params: \n",
    "        p.data += -lr * p.grad \n",
    "    \n",
    "    lossi.append(loss.item())\n",
    "    steps.append(i)\n",
    "\n",
    "loss.item()\n"
   ]
  },
  {
   "cell_type": "code",
   "execution_count": 96,
   "metadata": {},
   "outputs": [
    {
     "data": {
      "image/png": "[encoded data removed]",
      "text/plain": [
       "<Figure size 640x480 with 1 Axes>"
      ]
     },
     "metadata": {},
     "output_type": "display_data"
    }
   ],
   "source": [
    "plt.plot(steps, lossi)\n",
    "plt.show()"
   ]
  },
  {
   "cell_type": "code",
   "execution_count": null,
   "metadata": {},
   "outputs": [],
   "source": [
    "dataset = Xval\n",
    "labels = Yval   \n",
    "   \n",
    "embedding = C[dataset[ix]] \n",
    "h = torch.tanh(embedding.view(-1,6) @ W1 + b1) \n",
    "logits = h @ W2 + b2\n",
    "loss = F.cross_entropy(logits, labels[ix]) \n",
    "\n",
    "loss"
   ]
  }
 ],
 "metadata": {
  "kernelspec": {
   "display_name": "makemore",
   "language": "python",
   "name": "python3"
  },
  "language_info": {
   "codemirror_mode": {
    "name": "ipython",
    "version": 3
   },
   "file_extension": ".py",
   "mimetype": "text/x-python",
   "name": "python",
   "nbconvert_exporter": "python",
   "pygments_lexer": "ipython3",
   "version": "3.12.8"
  }
 },
 "nbformat": 4,
 "nbformat_minor": 2
}
