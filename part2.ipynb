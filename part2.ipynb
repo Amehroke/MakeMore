{
 "cells": [
  {
   "cell_type": "markdown",
   "metadata": {},
   "source": [
    "**Instead of using statistical models like bigrams or trigrams, we will use a Multi-Layer Perceptron (MLP). This is because the array matrix required for storing letter combinations grows exponentially as 26^x, where x is the number of letter combinations. Since 26 represents the number of letters in the alphabet, this approach would require excessive computation and memory. Using a neural network like an MLP is a more efficient alternative.**\n",
    "\n",
    "<div align = 'center'>\n",
    "    <img src=\"./MLP_Arch.png\" width=\"500\">\n",
    "<div>\n"
   ]
  },
  {
   "cell_type": "markdown",
   "metadata": {},
   "source": [
    "---"
   ]
  },
  {
   "cell_type": "markdown",
   "metadata": {},
   "source": [
    "# Step 1 Batch/Input Layer"
   ]
  },
  {
   "cell_type": "code",
   "execution_count": 5,
   "metadata": {},
   "outputs": [],
   "source": [
    "import torch \n",
    "import torch.nn.functional as F\n",
    "import matplotlib.pyplot as plt\n",
    "%matplotlib inline"
   ]
  },
  {
   "cell_type": "code",
   "execution_count": 6,
   "metadata": {},
   "outputs": [
    {
     "data": {
      "text/plain": [
       "['emma', 'olivia', 'ava', 'isabella', 'sophia', 'charlotte', 'mia', 'amelia']"
      ]
     },
     "execution_count": 6,
     "metadata": {},
     "output_type": "execute_result"
    }
   ],
   "source": [
    "#Read in txt file\n",
    "words = open('names.txt', 'r').read().splitlines()\n",
    "words[:8]"
   ]
  },
  {
   "cell_type": "code",
   "execution_count": 7,
   "metadata": {},
   "outputs": [
    {
     "data": {
      "text/plain": [
       "32033"
      ]
     },
     "execution_count": 7,
     "metadata": {},
     "output_type": "execute_result"
    }
   ],
   "source": [
    "len(words)"
   ]
  },
  {
   "cell_type": "code",
   "execution_count": 8,
   "metadata": {},
   "outputs": [
    {
     "name": "stdout",
     "output_type": "stream",
     "text": [
      "{'a': 1, 'b': 2, 'c': 3, 'd': 4, 'e': 5, 'f': 6, 'g': 7, 'h': 8, 'i': 9, 'j': 10, 'k': 11, 'l': 12, 'm': 13, 'n': 14, 'o': 15, 'p': 16, 'q': 17, 'r': 18, 's': 19, 't': 20, 'u': 21, 'v': 22, 'w': 23, 'x': 24, 'y': 25, 'z': 26, '.': 0}\n",
      "{1: 'a', 2: 'b', 3: 'c', 4: 'd', 5: 'e', 6: 'f', 7: 'g', 8: 'h', 9: 'i', 10: 'j', 11: 'k', 12: 'l', 13: 'm', 14: 'n', 15: 'o', 16: 'p', 17: 'q', 18: 'r', 19: 's', 20: 't', 21: 'u', 22: 'v', 23: 'w', 24: 'x', 25: 'y', 26: 'z', 0: '.'}\n"
     ]
    }
   ],
   "source": [
    "# Convert the alphabet to a index integer using mapping \n",
    "chars = sorted(list(set(''.join(words))))\n",
    "# print(chars)\n",
    "stoi = {s:i+1 for i,s in enumerate(chars)}\n",
    "stoi['.'] = 0 \n",
    "itos = {i:s for s,i in stoi.items()}\n",
    "print(stoi)\n",
    "print(itos)"
   ]
  },
  {
   "cell_type": "markdown",
   "metadata": {},
   "source": [
    "For this following FUnction we are creating a dataset based off of indexs based on the previous mapping and storing them as tensors for each word. For example there is 5 words, so we will end up with a dataset of 5 empty arrays [. . .] and then a variation of all the words as shown in the print out of the funciton: "
   ]
  },
  {
   "cell_type": "code",
   "execution_count": 9,
   "metadata": {},
   "outputs": [
    {
     "name": "stdout",
     "output_type": "stream",
     "text": [
      "emma\n",
      "... -----> e\n",
      "..e -----> m\n",
      ".em -----> m\n",
      "emm -----> a\n",
      "mma -----> .\n",
      "olivia\n",
      "... -----> o\n",
      "..o -----> l\n",
      ".ol -----> i\n",
      "oli -----> v\n",
      "liv -----> i\n",
      "ivi -----> a\n",
      "via -----> .\n",
      "ava\n",
      "... -----> a\n",
      "..a -----> v\n",
      ".av -----> a\n",
      "ava -----> .\n",
      "isabella\n",
      "... -----> i\n",
      "..i -----> s\n",
      ".is -----> a\n",
      "isa -----> b\n",
      "sab -----> e\n",
      "abe -----> l\n",
      "bel -----> l\n",
      "ell -----> a\n",
      "lla -----> .\n",
      "sophia\n",
      "... -----> s\n",
      "..s -----> o\n",
      ".so -----> p\n",
      "sop -----> h\n",
      "oph -----> i\n",
      "phi -----> a\n",
      "hia -----> .\n",
      "32\n"
     ]
    }
   ],
   "source": [
    "# This is the block size for how big the input is going to be for the MLP\n",
    "block_size = 3\n",
    "\n",
    "X,y = [],[] # X is the input, y is the Label\n",
    "count = 5\n",
    "for w in words[:5]: \n",
    "    print(w)\n",
    "    context = [0] * block_size\n",
    "    count += len(w)\n",
    "    for ch in w + '.': \n",
    "        ix = stoi[ch]\n",
    "        # print('ch:', ch)\n",
    "        # print('ix', ix)\n",
    "        X.append(context)\n",
    "        # print('context', context)\n",
    "        y.append(ix)\n",
    "        print(''.join([itos[i] for i in context]),'----->', itos[ix])\n",
    "        context = context[1:] + [ix] \n",
    "        \n",
    "print(count)\n",
    "X = torch.tensor(X)\n",
    "Y = torch.tensor(y)"
   ]
  },
  {
   "cell_type": "markdown",
   "metadata": {},
   "source": [
    "### Function Summary:\n",
    "\n",
    "This function converts words into training data by mapping characters to indices and storing them as tensors.  \n",
    "\n",
    "- **Block Size (`3`)**: Defines how many previous characters form the input.  \n",
    "- **`X` (Input) & `y` (Labels)**:  \n",
    "  - `X` stores context windows of size 3.  \n",
    "  - `y` stores the next character for each window.  \n",
    "- **Process**:  \n",
    "  1. Start with an empty context (`[0, 0, 0]`).  \n",
    "  2. Slide through each word (plus `.` at the end).  \n",
    "  3. Store the context in `X` and the next character in `y`.  \n",
    "  4. Shift the context and repeat.  \n",
    "- **Example (`\"emma\"`)**:  \n",
    "  ```\n",
    "  ...  → e  \n",
    "  ..e  → m  \n",
    "  .em  → m  \n",
    "  emm  → a  \n",
    "  mma  → .  \n",
    "  ```  \n",
    "- Finally, `X` and `y` are converted to PyTorch tensors."
   ]
  },
  {
   "cell_type": "code",
   "execution_count": 10,
   "metadata": {},
   "outputs": [
    {
     "data": {
      "text/plain": [
       "(torch.Size([32, 3]), torch.int64, torch.Size([32]), torch.int64)"
      ]
     },
     "execution_count": 10,
     "metadata": {},
     "output_type": "execute_result"
    }
   ],
   "source": [
    "X.shape, X.dtype, Y.shape, Y.dtype"
   ]
  },
  {
   "cell_type": "code",
   "execution_count": 11,
   "metadata": {},
   "outputs": [
    {
     "data": {
      "text/plain": [
       "(tensor([[ 0,  0,  0],\n",
       "         [ 0,  0,  5],\n",
       "         [ 0,  5, 13],\n",
       "         [ 5, 13, 13],\n",
       "         [13, 13,  1]]),\n",
       " tensor([ 5, 13, 13,  1,  0]))"
      ]
     },
     "execution_count": 11,
     "metadata": {},
     "output_type": "execute_result"
    }
   ],
   "source": [
    "X[:5], Y[:5] # Printing the first 5 rows of the (X) (Y) tensor\n",
    "\n",
    "# X defines the sequence of characters, and Y defines the next character prediction in the sequence"
   ]
  },
  {
   "cell_type": "markdown",
   "metadata": {},
   "source": [
    "As discussed before the dataset (X) resulted in 32 total rows, 5 empty intialization rows, and 27 variation rows that determine the next pattern. The block size determines how many characters will be remebered in the sequence. "
   ]
  },
  {
   "cell_type": "code",
   "execution_count": 12,
   "metadata": {},
   "outputs": [
    {
     "data": {
      "text/plain": [
       "torch.Size([32, 3, 2])"
      ]
     },
     "execution_count": 12,
     "metadata": {},
     "output_type": "execute_result"
    }
   ],
   "source": [
    "# C is the randome embedding matrix, with 27 rows and 2 columns\n",
    "C = torch.randn((27,2))\n",
    "\n",
    "# Embedding the input tensor X using the embedding matrix C\n",
    "embedding = C[X]\n",
    "embedding.shape"
   ]
  },
  {
   "cell_type": "markdown",
   "metadata": {},
   "source": [
    "**Embedding Summary**  \n",
    "\n",
    "- **Embeddings map characters to vectors** in a continuous space instead of treating them as separate symbols.  \n",
    "- **Initially random**, embeddings get optimized during training to capture character relationships.  \n",
    "- **Example:** A sequence `[0,0,5]` (where `5 = e`) retrieves vectors from an embedding matrix.  \n",
    "- **Training adjusts these vectors** so similar characters end up closer in space.  \n",
    "- **Benefit:** Helps the model understand patterns and improves predictions without manual rules.\n",
    "\n",
    "<div align = 'center'>\n",
    "    <img src=\"./2d_Vector_Embedding.png\" width=\"500\">\n",
    "<div>\n"
   ]
  },
  {
   "cell_type": "markdown",
   "metadata": {},
   "source": [
    "---"
   ]
  },
  {
   "cell_type": "markdown",
   "metadata": {},
   "source": [
    "# Step 2: Hidden Layers"
   ]
  },
  {
   "cell_type": "code",
   "execution_count": 13,
   "metadata": {},
   "outputs": [],
   "source": [
    "W1 = torch.randn((6,100)) # This is the weights that will be input to the first layer\n",
    "b1 = torch.randn((100)) # This is the bias that will be input to the first layer"
   ]
  },
  {
   "cell_type": "markdown",
   "metadata": {},
   "source": [
    "We flatten the embeddings from `torch.Size([32, 3, 2]) → torch.Size([32, 6])` to make them compatible for weight multiplication. This is done using `torch.cat`, which concatenates the matrix into a single vector per sample."
   ]
  },
  {
   "cell_type": "markdown",
   "metadata": {},
   "source": [
    "Method 1"
   ]
  },
  {
   "cell_type": "code",
   "execution_count": 14,
   "metadata": {},
   "outputs": [
    {
     "data": {
      "text/plain": [
       "torch.Size([32, 6])"
      ]
     },
     "execution_count": 14,
     "metadata": {},
     "output_type": "execute_result"
    }
   ],
   "source": [
    "torch.cat([embedding[:, 0, :], embedding[:, 1, :], embedding[:, 2, :]], 1).shape # Inefficent way of doing it due to new memory being created"
   ]
  },
  {
   "cell_type": "markdown",
   "metadata": {},
   "source": [
    "If the block size changes (e.g., from 3 to 5), the current approach would need manual updates. To avoid hardcoding, we use `torch.unbind`, which dynamically unravels the tensor, making the code more flexible."
   ]
  },
  {
   "cell_type": "code",
   "execution_count": 15,
   "metadata": {},
   "outputs": [
    {
     "data": {
      "text/plain": [
       "torch.Size([32, 6])"
      ]
     },
     "execution_count": 15,
     "metadata": {},
     "output_type": "execute_result"
    }
   ],
   "source": [
    "# Use of torch.unbind to \n",
    "# torch.unbind(embedding, 1)\n",
    "# This is equivalent to [embedding[:, 0, :], embedding[:, 1, :], embedding[:, 2, :]\n",
    "\n",
    "torch.cat(torch.unbind(embedding, 1), 1).shape\n",
    "# We get the same result as above and it is dynamic for block size"
   ]
  },
  {
   "cell_type": "markdown",
   "metadata": {},
   "source": [
    "Mehtod 2 More efficent"
   ]
  },
  {
   "cell_type": "markdown",
   "metadata": {},
   "source": [
    "We use `torch.view()` to reshape the tensor into any desired dimensions. For example, it allows us to convert a tensor from `torch.Size([32, 3, 2])` to `torch.Size([32, 6])` dynamically, making it adaptable to different input shapes."
   ]
  },
  {
   "cell_type": "code",
   "execution_count": 16,
   "metadata": {},
   "outputs": [
    {
     "data": {
      "text/plain": [
       "torch.Size([32, 6])"
      ]
     },
     "execution_count": 16,
     "metadata": {},
     "output_type": "execute_result"
    }
   ],
   "source": [
    "embedding.view(32,6) # This allows us to make the embedding matrix in a different shape\n",
    "embedding.view(32,6).shape\n",
    "# Testing similarity \n",
    "# embedding.view(32,6) == torch.cat(torch.unbind(embedding, 1), 1)"
   ]
  },
  {
   "cell_type": "code",
   "execution_count": 17,
   "metadata": {},
   "outputs": [
    {
     "data": {
      "text/plain": [
       "tensor([[-0.4256,  0.4017,  3.7514,  ..., -1.8903,  0.7083,  0.0815],\n",
       "        [ 0.2989, -0.3466,  2.7397,  ..., -1.5563,  1.0359,  0.3680],\n",
       "        [ 0.6238,  0.7273,  4.3425,  ..., -2.3373,  0.7108,  0.2357],\n",
       "        ...,\n",
       "        [-1.2488,  1.6563,  5.3285,  ..., -2.2634,  3.0306,  1.7738],\n",
       "        [ 0.5659,  1.5330, -0.1985,  ...,  0.6898, -3.7425,  1.7541],\n",
       "        [ 1.1403,  0.3971,  3.4217,  ..., -2.9865, -2.6413, -0.6490]])"
      ]
     },
     "execution_count": 17,
     "metadata": {},
     "output_type": "execute_result"
    }
   ],
   "source": [
    "# So to multiply the weights with inputs \n",
    "h = embedding.view(32,6) @ W1 + b1\n",
    "h"
   ]
  },
  {
   "cell_type": "markdown",
   "metadata": {},
   "source": [
    "- **Multiplies** the **32 input vectors (each of size 6)** with **100 random intialized weights** from `W1 (6, 100)`.  \n",
    "- **Adds bias `b1`** for each of the 32 inputs, resulting in a final shape of `torch.Size([32, 100])`.  \n",
    "\n",
    "This transforms the input into a **100-dimensional hidden representation** for each sample."
   ]
  },
  {
   "cell_type": "markdown",
   "metadata": {},
   "source": [
    "Instead of hardcoding 32 as the batch size in view(32,6), we can use -1 to make the code adaptable to any batch size. (-1) tells PyTorch to automatically infer the correct batch size based on the input. Input Size = The number of features per sample, Batch Size = The number of samples processed at once in a single forward pass."
   ]
  },
  {
   "cell_type": "code",
   "execution_count": 18,
   "metadata": {},
   "outputs": [
    {
     "data": {
      "text/plain": [
       "tensor([[-0.4256,  0.4017,  3.7514,  ..., -1.8903,  0.7083,  0.0815],\n",
       "        [ 0.2989, -0.3466,  2.7397,  ..., -1.5563,  1.0359,  0.3680],\n",
       "        [ 0.6238,  0.7273,  4.3425,  ..., -2.3373,  0.7108,  0.2357],\n",
       "        ...,\n",
       "        [-1.2488,  1.6563,  5.3285,  ..., -2.2634,  3.0306,  1.7738],\n",
       "        [ 0.5659,  1.5330, -0.1985,  ...,  0.6898, -3.7425,  1.7541],\n",
       "        [ 1.1403,  0.3971,  3.4217,  ..., -2.9865, -2.6413, -0.6490]])"
      ]
     },
     "execution_count": 18,
     "metadata": {},
     "output_type": "execute_result"
    }
   ],
   "source": [
    "# Using -1 for dynamic block size\n",
    "h = embedding.view(-1,6) @ W1 + b1\n",
    "h"
   ]
  },
  {
   "cell_type": "markdown",
   "metadata": {},
   "source": [
    "---"
   ]
  },
  {
   "cell_type": "markdown",
   "metadata": {},
   "source": [
    "# Step 3: Softmax Layer"
   ]
  },
  {
   "cell_type": "code",
   "execution_count": 19,
   "metadata": {},
   "outputs": [],
   "source": [
    "W2 = torch.randn((100,27)) \n",
    "b2 = torch.randn((27))"
   ]
  },
  {
   "cell_type": "code",
   "execution_count": 20,
   "metadata": {},
   "outputs": [
    {
     "data": {
      "text/plain": [
       "torch.Size([32, 27])"
      ]
     },
     "execution_count": 20,
     "metadata": {},
     "output_type": "execute_result"
    }
   ],
   "source": [
    "logits = h @ W2 + b2 # Hidden layers are multiplied by weights of softmax layer and bias are added \n",
    "logits.shape"
   ]
  },
  {
   "cell_type": "code",
   "execution_count": 21,
   "metadata": {},
   "outputs": [],
   "source": [
    "counts = logits.exp() # Taking the exponential of the logits "
   ]
  },
  {
   "cell_type": "code",
   "execution_count": 22,
   "metadata": {},
   "outputs": [
    {
     "name": "stdout",
     "output_type": "stream",
     "text": [
      "torch.Size([32, 27])\n",
      "tensor(1.0000)\n"
     ]
    }
   ],
   "source": [
    "# Normalizing the counts to get the probability of each character\n",
    "prob = counts / counts.sum(1, keepdim=True)\n",
    "print(prob.shape) # should return 32, 27, for 32 sameples and 27 characters\n",
    "\n",
    "print(prob[0].sum()) # The sume of the probabilities should be 1"
   ]
  },
  {
   "cell_type": "code",
   "execution_count": 23,
   "metadata": {},
   "outputs": [
    {
     "data": {
      "text/plain": [
       "tensor([6.0827e-09, 2.4871e-12, 7.7228e-18, 1.5604e-04, 3.8243e-18, 1.3298e-05,\n",
       "        1.0872e-01, 1.1855e-19, 1.4757e-26, 4.1704e-15, 1.9371e-24, 1.5987e-16,\n",
       "        4.2375e-12, 7.4562e-12, 4.2404e-21, 2.7922e-17, 1.7152e-12, 3.1266e-22,\n",
       "        4.6866e-13, 2.8840e-14, 8.2392e-18, 2.3712e-13, 3.4654e-32, 1.2694e-06,\n",
       "        2.0686e-23, 5.4161e-08, 4.3403e-07, 6.8319e-16, 3.0911e-03, 3.6848e-15,\n",
       "        2.5885e-16, 5.3698e-17])"
      ]
     },
     "execution_count": 23,
     "metadata": {},
     "output_type": "execute_result"
    }
   ],
   "source": [
    "prob[torch.arange(32), Y] # This is the probability of the correct character"
   ]
  },
  {
   "cell_type": "code",
   "execution_count": 24,
   "metadata": {},
   "outputs": [
    {
     "data": {
      "text/plain": [
       "tensor(32.2761)"
      ]
     },
     "execution_count": 24,
     "metadata": {},
     "output_type": "execute_result"
    }
   ],
   "source": [
    "loss = - prob[torch.arange(32), Y].log().mean() # This is the loss function\n",
    "loss"
   ]
  },
  {
   "cell_type": "markdown",
   "metadata": {},
   "source": [
    "---"
   ]
  },
  {
   "cell_type": "markdown",
   "metadata": {},
   "source": [
    "# Cleaned Up Full MLP"
   ]
  },
  {
   "cell_type": "code",
   "execution_count": 25,
   "metadata": {},
   "outputs": [
    {
     "data": {
      "text/plain": [
       "(torch.Size([32, 3]), torch.Size([32]))"
      ]
     },
     "execution_count": 25,
     "metadata": {},
     "output_type": "execute_result"
    }
   ],
   "source": [
    "X.shape, Y.shape # data set "
   ]
  },
  {
   "cell_type": "code",
   "execution_count": 26,
   "metadata": {},
   "outputs": [],
   "source": [
    "# Step 1\n",
    "g = torch.Generator().manual_seed(242424) # Seed for reproducibility\n",
    "C = torch.rand((27,2), generator=g) # Random embedding matrix\n",
    "\n",
    "#Step 2\n",
    "W1 = torch.rand((6,100), generator=g) # Random weights for the first layer\n",
    "b1 = torch.rand((100), generator=g) # Random bias for the first layer\n",
    "\n",
    "#Step 3\n",
    "W2 = torch.rand((100,27), generator=g) # Random weights for the Softmax layer\n",
    "b2 = torch.rand((27), generator=g) # Random bias for the Softmax layer\n",
    "params = [C, W1, b1, W2, b2] # Parameters for the model"
   ]
  },
  {
   "cell_type": "code",
   "execution_count": 228,
   "metadata": {},
   "outputs": [
    {
     "name": "stdout",
     "output_type": "stream",
     "text": [
      "Total Number of Parameters:  3481\n"
     ]
    }
   ],
   "source": [
    "print('Total Number of Parameters: ', sum(p.nelement() for p in params)) # Total number of parameters in the model"
   ]
  },
  {
   "cell_type": "code",
   "execution_count": 229,
   "metadata": {},
   "outputs": [
    {
     "data": {
      "text/plain": [
       "tensor(6.4533)"
      ]
     },
     "execution_count": 229,
     "metadata": {},
     "output_type": "execute_result"
    }
   ],
   "source": [
    "embedding = C[X] # Embedding the input tensor X using the embedding matrix C\n",
    "h = torch.tanh(embedding.view(-1,6) @ W1 + b1) # Hidden layer\n",
    "logits = h @ W2 + b2 # Logits\n",
    "counts = logits.exp() # Exponential of the logits\n",
    "prob = counts / counts.sum(1, keepdim=True) # Normalizing the counts\n",
    "loss = - prob[torch.arange(32), Y].log().mean() # Loss function\n",
    "loss "
   ]
  },
  {
   "cell_type": "markdown",
   "metadata": {},
   "source": [
    "Instead of manually implementing the **cross-entropy loss function**, we use PyTorch’s built-in `torch.nn.functional.cross_entropy()`, which is more **optimized and efficient**.  \n",
    "\n",
    "Unlike a manual implementation, this **does not create extra tensors** for computation. Instead, it clusters operations together, making it **faster** and more **memory-efficient**.  "
   ]
  },
  {
   "cell_type": "code",
   "execution_count": 230,
   "metadata": {},
   "outputs": [],
   "source": [
    "for p in params: \n",
    "    p.requires_grad_() # Setting the requires_grad to True for all the parameters"
   ]
  },
  {
   "cell_type": "code",
   "execution_count": 231,
   "metadata": {},
   "outputs": [
    {
     "name": "stdout",
     "output_type": "stream",
     "text": [
      "0.26707345247268677\n"
     ]
    }
   ],
   "source": [
    "\n",
    "# Training the model for 100 epochs\n",
    "for _ in range(1000): \n",
    "    # Forward pass\n",
    "    embedding = C[X] # Embedding the input tensor X using the embedding matrix C\n",
    "    h = torch.tanh(embedding.view(-1,6) @ W1 + b1) # Hidden layer\n",
    "    logits = h @ W2 + b2 # Logits\n",
    "    loss = F.cross_entropy(logits, Y) # Cross entropy loss function\n",
    "    \n",
    "    # Backward pass (Gradient descent)\n",
    "    for p in params: \n",
    "        p.grad = None\n",
    "    loss.backward()\n",
    "\n",
    "    #update the parameters\n",
    "    for p in params: \n",
    "        p.data += -0.1 * p.grad\n",
    "    \n",
    "print(loss.item())"
   ]
  },
  {
   "cell_type": "markdown",
   "metadata": {},
   "source": [
    "Even with just **5 words**, the loss dropped from **6.6207 → 0.2613**, but **not to 0**.  \n",
    "\n",
    "This happens because the **first character of each word is unpredictable**—the model starts with an **empty context**, meaning **any letter has an equal probability of being the first prediction**.  "
   ]
  },
  {
   "cell_type": "markdown",
   "metadata": {},
   "source": [
    "---"
   ]
  },
  {
   "cell_type": "markdown",
   "metadata": {},
   "source": [
    "# Now Training on the full dataset"
   ]
  },
  {
   "cell_type": "code",
   "execution_count": 232,
   "metadata": {},
   "outputs": [],
   "source": [
    "# This is the block size for how big the input is going to be for the MLP\n",
    "block_size = 3\n",
    "\n",
    "X,y = [],[] # X is the input, y is the Label\n",
    "\n",
    "for w in words: \n",
    "    context = [0] * block_size\n",
    "    for ch in w + '.': \n",
    "        ix = stoi[ch]\n",
    "        X.append(context)\n",
    "        y.append(ix)\n",
    "        context = context[1:] + [ix] \n",
    "        \n",
    "X = torch.tensor(X)\n",
    "Y = torch.tensor(y)"
   ]
  },
  {
   "cell_type": "code",
   "execution_count": 233,
   "metadata": {},
   "outputs": [
    {
     "data": {
      "text/plain": [
       "(torch.Size([228146, 3]), torch.int64, torch.Size([228146]), torch.int64)"
      ]
     },
     "execution_count": 233,
     "metadata": {},
     "output_type": "execute_result"
    }
   ],
   "source": [
    "X.shape, X.dtype, Y.shape, Y.dtype\n",
    "# Now we have 228146 samples and 3 characters in each sample"
   ]
  },
  {
   "cell_type": "code",
   "execution_count": 234,
   "metadata": {},
   "outputs": [],
   "source": [
    "# Step 1\n",
    "C = torch.rand((27,2), generator=g) # Random embedding matrix\n",
    "\n",
    "#Step 2\n",
    "W1 = torch.rand((6,100), generator=g) # Random weights for the first layer\n",
    "b1 = torch.rand((100), generator=g) # Random bias for the first layer\n",
    "\n",
    "#Step 3\n",
    "W2 = torch.rand((100,27), generator=g) # Random weights for the Softmax layer\n",
    "b2 = torch.rand((27), generator=g) # Random bias for the Softmax layer\n",
    "params = [C, W1, b1, W2, b2] # Parameters for the model"
   ]
  },
  {
   "cell_type": "code",
   "execution_count": 235,
   "metadata": {},
   "outputs": [],
   "source": [
    "for p in params: \n",
    "    p.requires_grad_() # Setting the requires_grad to True for all the parameters"
   ]
  },
  {
   "cell_type": "code",
   "execution_count": 236,
   "metadata": {},
   "outputs": [
    {
     "name": "stdout",
     "output_type": "stream",
     "text": [
      "5.458654880523682\n",
      "4.134350776672363\n",
      "3.6846084594726562\n",
      "3.4315357208251953\n",
      "3.2931735515594482\n",
      "3.209890604019165\n",
      "3.1543283462524414\n",
      "3.1108791828155518\n",
      "3.073997735977173\n",
      "3.041818380355835\n",
      "3.013424873352051\n",
      "2.9882843494415283\n",
      "2.9660980701446533\n",
      "2.9466917514801025\n",
      "2.929917573928833\n",
      "2.915576696395874\n",
      "2.9033970832824707\n",
      "2.89304518699646\n",
      "2.8841745853424072\n",
      "2.8764727115631104\n",
      "2.869689702987671\n",
      "2.8636467456817627\n",
      "2.8582253456115723\n",
      "2.853353977203369\n",
      "2.8489959239959717\n",
      "2.845128297805786\n",
      "2.841737747192383\n",
      "2.838808298110962\n",
      "2.836317539215088\n",
      "2.834233522415161\n",
      "2.8325154781341553\n",
      "2.831115245819092\n",
      "2.8299827575683594\n",
      "2.8290679454803467\n",
      "2.828324317932129\n",
      "2.8277108669281006\n",
      "2.827195644378662\n",
      "2.8267529010772705\n",
      "2.8263626098632812\n",
      "2.826009750366211\n",
      "2.825683832168579\n",
      "2.825377941131592\n",
      "2.825086832046509\n",
      "2.824805498123169\n",
      "2.824531316757202\n",
      "2.824262857437134\n",
      "2.823997735977173\n",
      "2.8237361907958984\n",
      "2.8234760761260986\n",
      "2.8232169151306152\n",
      "2.8229572772979736\n",
      "2.8226988315582275\n",
      "2.8224384784698486\n",
      "2.8221776485443115\n",
      "2.8219144344329834\n",
      "2.8216495513916016\n",
      "2.821383237838745\n",
      "2.821113109588623\n",
      "2.8208401203155518\n",
      "2.8205649852752686\n",
      "2.8202850818634033\n",
      "2.8200011253356934\n",
      "2.8197124004364014\n",
      "2.819420099258423\n",
      "2.8191230297088623\n",
      "2.8188204765319824\n",
      "2.8185129165649414\n",
      "2.8181986808776855\n",
      "2.817878484725952\n",
      "2.817552089691162\n",
      "2.8172178268432617\n",
      "2.816877603530884\n",
      "2.8165292739868164\n",
      "2.8161725997924805\n",
      "2.8158082962036133\n",
      "2.815434217453003\n",
      "2.815051794052124\n",
      "2.814659357070923\n",
      "2.8142569065093994\n",
      "2.8138437271118164\n",
      "2.813419818878174\n",
      "2.812983751296997\n",
      "2.8125360012054443\n",
      "2.8120765686035156\n",
      "2.8116025924682617\n",
      "2.8111157417297363\n",
      "2.8106141090393066\n",
      "2.8100979328155518\n",
      "2.8095667362213135\n",
      "2.8090195655822754\n",
      "2.8084557056427\n",
      "2.807874917984009\n",
      "2.8072760105133057\n",
      "2.80665922164917\n",
      "2.806023597717285\n",
      "2.805367946624756\n",
      "2.8046932220458984\n",
      "2.8039979934692383\n",
      "2.803281784057617\n",
      "2.802544593811035\n"
     ]
    }
   ],
   "source": [
    "# (Full-Batch Training)\n",
    "\n",
    "# Training the model for 100 epochs\n",
    "for _ in range(100): \n",
    "    # Forward pass\n",
    "    embedding = C[X] # Embedding the input tensor X using the embedding matrix C\n",
    "    h = torch.tanh(embedding.view(-1,6) @ W1 + b1) # Hidden layer\n",
    "    logits = h @ W2 + b2 # Logits\n",
    "    loss = F.cross_entropy(logits, Y) # Cross entropy loss function\n",
    "    print(loss.item())\n",
    "    # Backward pass (Gradient descent)\n",
    "    for p in params: \n",
    "        p.grad = None\n",
    "    loss.backward()\n",
    "\n",
    "    #update the parameters\n",
    "    for p in params: \n",
    "        p.data += -0.1 * p.grad\n",
    "    \n"
   ]
  },
  {
   "cell_type": "markdown",
   "metadata": {},
   "source": [
    "### This process is taking too long because it performs a backward pass on every individual sample. A more efficient and commonly used strategy is to accumulate batches of samples and only run the backward pass on these mini-batches, rather than doing it for each sample or only once every epoch."
   ]
  },
  {
   "cell_type": "markdown",
   "metadata": {},
   "source": [
    "---"
   ]
  },
  {
   "cell_type": "markdown",
   "metadata": {},
   "source": [
    "# Full Training with Mini-Batch optimization"
   ]
  },
  {
   "cell_type": "code",
   "execution_count": 237,
   "metadata": {},
   "outputs": [
    {
     "data": {
      "text/plain": [
       "tensor([0, 4, 2, 3, 2, 1, 3, 3, 3, 3, 2, 3, 4, 1, 3, 2, 4, 3, 0, 2, 1, 3, 3, 0,\n",
       "        3, 2, 1, 2, 0, 4, 3, 0])"
      ]
     },
     "execution_count": 237,
     "metadata": {},
     "output_type": "execute_result"
    }
   ],
   "source": [
    "torch.randint(0, 5, (32,))"
   ]
  },
  {
   "cell_type": "markdown",
   "metadata": {},
   "source": [
    "**This function generates an array of 32 digits randomly that are between 0-5. We can use this funtionality on to produce minibatches from our dataset.**"
   ]
  },
  {
   "cell_type": "code",
   "execution_count": 238,
   "metadata": {},
   "outputs": [
    {
     "name": "stdout",
     "output_type": "stream",
     "text": [
      "2.963801622390747\n",
      "2.6956963539123535\n",
      "3.239279270172119\n",
      "3.018012762069702\n",
      "2.617950916290283\n",
      "2.8693337440490723\n",
      "2.8902199268341064\n",
      "3.0995190143585205\n",
      "2.9352731704711914\n",
      "2.887397050857544\n",
      "2.6415553092956543\n",
      "3.128690242767334\n",
      "2.7968180179595947\n",
      "2.6242740154266357\n",
      "2.8170371055603027\n",
      "2.6576547622680664\n",
      "2.9491546154022217\n",
      "2.6247973442077637\n",
      "3.020049571990967\n",
      "2.739379405975342\n",
      "3.1457886695861816\n",
      "2.985626220703125\n",
      "2.6417407989501953\n",
      "3.1213576793670654\n",
      "2.7520828247070312\n",
      "2.778930902481079\n",
      "3.018310308456421\n",
      "2.518045425415039\n",
      "2.5089945793151855\n",
      "2.90983510017395\n",
      "2.7599937915802\n",
      "2.6922171115875244\n",
      "3.0181729793548584\n",
      "2.868490219116211\n",
      "2.845430850982666\n",
      "2.9273228645324707\n",
      "3.0930087566375732\n",
      "2.7054033279418945\n",
      "2.7526283264160156\n",
      "3.1314737796783447\n",
      "2.7888083457946777\n",
      "2.892881155014038\n",
      "2.7210750579833984\n",
      "2.9549689292907715\n",
      "2.9408986568450928\n",
      "2.688037872314453\n",
      "3.016476631164551\n",
      "2.772251605987549\n",
      "2.5472254753112793\n",
      "2.7773122787475586\n",
      "2.934617042541504\n",
      "2.7349462509155273\n",
      "2.815654993057251\n",
      "2.6488561630249023\n",
      "2.856804370880127\n",
      "2.8359251022338867\n",
      "2.932817220687866\n",
      "2.7868309020996094\n",
      "2.610863208770752\n",
      "3.0276267528533936\n",
      "2.6430695056915283\n",
      "2.7203445434570312\n",
      "2.9876644611358643\n",
      "2.6053264141082764\n",
      "2.9560468196868896\n",
      "2.4185633659362793\n",
      "2.375185012817383\n",
      "2.8308310508728027\n",
      "2.843374252319336\n",
      "2.5436582565307617\n",
      "2.9101083278656006\n",
      "2.924114942550659\n",
      "2.9588913917541504\n",
      "2.609452247619629\n",
      "2.7469940185546875\n",
      "2.971829414367676\n",
      "2.9344370365142822\n",
      "2.953660011291504\n",
      "2.775822877883911\n",
      "2.796614646911621\n",
      "3.103013753890991\n",
      "2.527055263519287\n",
      "2.6681909561157227\n",
      "2.359623670578003\n",
      "2.989774465560913\n",
      "2.8609580993652344\n",
      "2.6522369384765625\n",
      "2.837125778198242\n",
      "2.6680078506469727\n",
      "2.887974977493286\n",
      "2.6640162467956543\n",
      "2.901235818862915\n",
      "2.6923062801361084\n",
      "3.0445337295532227\n",
      "2.6130409240722656\n",
      "2.8552002906799316\n",
      "2.9521217346191406\n",
      "2.6803369522094727\n",
      "3.114962577819824\n",
      "2.545140266418457\n"
     ]
    }
   ],
   "source": [
    "# (Mini-Batch Training)\n",
    "\n",
    "# Training the model for 100 epochs\n",
    "for _ in range(100): \n",
    "    \n",
    "    #Mini batch Construction\n",
    "    ix = torch.randint(0, X.shape[0], (32,)) # Randomly selecting 32 indexes from dataset storing it in ix\n",
    "    \n",
    "    # Forward pass\n",
    "    embedding = C[X[ix]] # using the randomly selected indexes to get the embedding matrix\n",
    "    h = torch.tanh(embedding.view(-1,6) @ W1 + b1) # Hidden layer\n",
    "    logits = h @ W2 + b2 # Logits\n",
    "    loss = F.cross_entropy(logits, Y[ix]) # Cross entropy loss function\n",
    "    print(loss.item())\n",
    "    # Backward pass (Gradient descent)\n",
    "    for p in params: \n",
    "        p.grad = None\n",
    "    loss.backward()\n",
    "\n",
    "    #update the parameters\n",
    "    for p in params: \n",
    "        p.data += -0.1 * p.grad\n",
    "    \n"
   ]
  },
  {
   "cell_type": "markdown",
   "metadata": {},
   "source": [
    "We can see that now using mini-batches the speed dropped from 45 sec. to instant after the mini-batch ruling was applied this drastically reduced computation. \n",
    "\n",
    "- (Mini-Batch Training) significantly reduces computational cost per iteration by only computing gradients on a small subset of the data.\n",
    "- (Full-Batch Training) requires computing gradients over the entire dataset, making it slower and potentially impractical for large datasets.\n",
    "\n",
    "\n",
    "<div align = 'center'>\n",
    "    <img src=\"./Mini-batch_gradient_descent.webp\" width=\"500\">\n",
    "<div>\n"
   ]
  },
  {
   "cell_type": "markdown",
   "metadata": {},
   "source": [
    "---"
   ]
  },
  {
   "cell_type": "markdown",
   "metadata": {},
   "source": [
    "# Learning Rate Optimization\n",
    "### Now we will look at the learning rate and how we can find the most optimal solution, common practice cross-validation"
   ]
  },
  {
   "cell_type": "markdown",
   "metadata": {},
   "source": [
    "**Reset Variables**"
   ]
  },
  {
   "cell_type": "code",
   "execution_count": 239,
   "metadata": {},
   "outputs": [],
   "source": [
    "# This is the block size for how big the input is going to be for the MLP\n",
    "block_size = 3\n",
    "\n",
    "X,y = [],[] # X is the input, y is the Label\n",
    "\n",
    "for w in words: \n",
    "    context = [0] * block_size\n",
    "    for ch in w + '.': \n",
    "        ix = stoi[ch]\n",
    "        X.append(context)\n",
    "        y.append(ix)\n",
    "        context = context[1:] + [ix] \n",
    "        \n",
    "X = torch.tensor(X)\n",
    "Y = torch.tensor(y)\n",
    "\n",
    "# Step 1\n",
    "g = torch.Generator().manual_seed(3) # Seed for reproducibility\n",
    "C = torch.rand((27,2), generator=g) # Random embedding matrix\n",
    "\n",
    "#Step 2\n",
    "W1 = torch.rand((6,100), generator=g) # Random weights for the first layer\n",
    "b1 = torch.rand((100), generator=g) # Random bias for the first layer\n",
    "\n",
    "#Step 3\n",
    "W2 = torch.rand((100,27), generator=g) # Random weights for the Softmax layer\n",
    "b2 = torch.rand((27), generator=g) # Random bias for the Softmax layer\n",
    "params = [C, W1, b1, W2, b2] # Parameters for the model\n",
    "\n",
    "for p in params: \n",
    "    p.requires_grad_() # Setting the requires_grad to True for all the parameters"
   ]
  },
  {
   "cell_type": "markdown",
   "metadata": {},
   "source": [
    "---"
   ]
  },
  {
   "cell_type": "code",
   "execution_count": 240,
   "metadata": {},
   "outputs": [],
   "source": [
    "# We determine the learing rate from the range 0f 10^-3 to 10^1\n",
    "lre = torch.linspace(-3, 0,10000)\n",
    "lrs = 10**lre"
   ]
  },
  {
   "cell_type": "code",
   "execution_count": 241,
   "metadata": {},
   "outputs": [
    {
     "data": {
      "text/plain": [
       "2.4611849784851074"
      ]
     },
     "execution_count": 241,
     "metadata": {},
     "output_type": "execute_result"
    }
   ],
   "source": [
    "# (Mini-Batch Training)\n",
    "\n",
    "lri = [] # Stored list for the learning rate\n",
    "lossi = [] # Loss list of the model for the selected learning rate\n",
    "\n",
    "for i in range(10000): \n",
    "    \n",
    "    #Mini batch Construction\n",
    "    ix = torch.randint(0, X.shape[0], (32,))\n",
    "    \n",
    "    # Forward pass\n",
    "    embedding = C[X[ix]] \n",
    "    h = torch.tanh(embedding.view(-1,6) @ W1 + b1) \n",
    "    logits = h @ W2 + b2\n",
    "    loss = F.cross_entropy(logits, Y[ix]) \n",
    "\n",
    "    for p in params: \n",
    "        p.grad = None\n",
    "    loss.backward()\n",
    "\n",
    "    lr = lrs[i]\n",
    "    for p in params: \n",
    "        p.data += -lr * p.grad # The -0.1 here is the learning rate\n",
    "    \n",
    "    lri.append(lre[i])\n",
    "    lossi.append(loss.item())\n",
    "\n",
    "loss.item()\n"
   ]
  },
  {
   "cell_type": "code",
   "execution_count": 242,
   "metadata": {},
   "outputs": [
    {
     "data": {
      "image/png": "[encoded data removed]",
      "text/plain": [
       "<Figure size 640x480 with 1 Axes>"
      ]
     },
     "metadata": {},
     "output_type": "display_data"
    }
   ],
   "source": [
    "plt.plot(lri, lossi)\n",
    "plt.show()"
   ]
  },
  {
   "cell_type": "markdown",
   "metadata": {},
   "source": [
    "### In this we can see that the most optimal learning rate is for most optimal results. "
   ]
  },
  {
   "cell_type": "markdown",
   "metadata": {},
   "source": [
    "---"
   ]
  },
  {
   "cell_type": "markdown",
   "metadata": {},
   "source": [
    "# Splitting Data - Prevent Overfitting\n",
    "### Best way to prevent overfitting of a LLM is to split the dataset into 3 for training split, dev/validation split, and test split: 80%, 10%, 10%"
   ]
  },
  {
   "cell_type": "markdown",
   "metadata": {},
   "source": [
    "### Reset Variables"
   ]
  },
  {
   "cell_type": "code",
   "execution_count": 243,
   "metadata": {},
   "outputs": [],
   "source": [
    "# This is same code as before but now optimized to call for each split dataset\n",
    "def build_dataset(words): \n",
    "    block_size = 3\n",
    "\n",
    "    X,y = [],[]\n",
    "\n",
    "    for w in words: \n",
    "        context = [0] * block_size\n",
    "        for ch in w + '.': \n",
    "            ix = stoi[ch]\n",
    "            X.append(context)\n",
    "            y.append(ix)\n",
    "            context = context[1:] + [ix] \n",
    "            \n",
    "    X = torch.tensor(X)\n",
    "    Y = torch.tensor(y)\n",
    "    \n",
    "    return X,Y\n",
    "\n",
    "\n",
    "# Setting Model Parameters\n",
    "C = torch.rand((27,2), generator=g) # Random embedding matrix\n",
    "\n",
    "#Step 2\n",
    "W1 = torch.rand((6,100), generator=g) # Random weights for the first layer\n",
    "b1 = torch.rand((100), generator=g) # Random bias for the first layer\n",
    "\n",
    "#Step 3\n",
    "W2 = torch.rand((100,27), generator=g) # Random weights for the Softmax layer\n",
    "b2 = torch.rand((27), generator=g) # Random bias for the Softmax layer\n",
    "params = [C, W1, b1, W2, b2] # Parameters for the model\n",
    "\n",
    "for p in params: \n",
    "    p.requires_grad_() # Setting the requires_grad to True for all the parameters"
   ]
  },
  {
   "cell_type": "markdown",
   "metadata": {},
   "source": [
    "### Split the Dataset"
   ]
  },
  {
   "cell_type": "code",
   "execution_count": 31,
   "metadata": {},
   "outputs": [
    {
     "name": "stdout",
     "output_type": "stream",
     "text": [
      "Total words: 32033\n",
      "Training set range: (0 - 25626)\n",
      "Validation set range: (25626 - 28829)\n",
      "Testing set range: (28829 - 32033)\n"
     ]
    }
   ],
   "source": [
    "import random\n",
    "\n",
    "random.seed(1222)\n",
    "random.shuffle(words)\n",
    "\n",
    "n1 = int(len(words) * 0.8)\n",
    "n2 = int(len(words) * 0.9)\n",
    "\n",
    "print(f\"Total words: {len(words)}\")\n",
    "print(f\"Training set range: (0 - {n1})\")\n",
    "print(f\"Validation set range: ({n1} - {n2})\")\n",
    "print(f\"Testing set range: ({n2} - {len(words)})\")\n",
    "\n",
    "\n",
    "Xtrain, Ytrain = build_dataset(words[:n1])\n",
    "Xval, Yval = build_dataset(words[n1:n2])\n",
    "Xtest, Ytest = build_dataset(words[n2:])\n"
   ]
  },
  {
   "cell_type": "code",
   "execution_count": 245,
   "metadata": {},
   "outputs": [
    {
     "data": {
      "text/plain": [
       "(torch.Size([182382, 3]),\n",
       " torch.Size([182382]),\n",
       " torch.Size([22862, 3]),\n",
       " torch.Size([22862]),\n",
       " torch.Size([22902, 3]),\n",
       " torch.Size([22902]))"
      ]
     },
     "execution_count": 245,
     "metadata": {},
     "output_type": "execute_result"
    }
   ],
   "source": [
    "Xtrain.shape, Ytrain.shape, Xval.shape, Yval.shape, Xtest.shape, Ytest.shape"
   ]
  },
  {
   "cell_type": "code",
   "execution_count": 246,
   "metadata": {},
   "outputs": [
    {
     "data": {
      "text/plain": [
       "2.06899356842041"
      ]
     },
     "execution_count": 246,
     "metadata": {},
     "output_type": "execute_result"
    }
   ],
   "source": [
    "# Setting the dataset/labels for the training set\n",
    "Dataset = Xtrain\n",
    "Labels = Ytrain\n",
    "\n",
    "\n",
    "for i in range(30000): \n",
    "    \n",
    "    #Mini batch Construction\n",
    "    ix = torch.randint(0, Dataset.shape[0], (32,))\n",
    "    \n",
    "    # Forward pass\n",
    "    embedding = C[Dataset[ix]] \n",
    "    h = torch.tanh(embedding.view(-1,6) @ W1 + b1) \n",
    "    logits = h @ W2 + b2\n",
    "    loss = F.cross_entropy(logits, Labels[ix]) \n",
    "\n",
    "    for p in params: \n",
    "        p.grad = None\n",
    "    loss.backward()\n",
    "\n",
    "    lr = .1 # Learning rate\n",
    "    for p in params: \n",
    "        p.data += -lr * p.grad \n",
    "\n",
    "loss.item()\n"
   ]
  },
  {
   "cell_type": "markdown",
   "metadata": {},
   "source": [
    "### Testing the Validation set\n",
    "**Testing the model on validation set to see if model is overfitting**"
   ]
  },
  {
   "cell_type": "code",
   "execution_count": 247,
   "metadata": {},
   "outputs": [
    {
     "data": {
      "text/plain": [
       "tensor(2.3657, grad_fn=<NllLossBackward0>)"
      ]
     },
     "execution_count": 247,
     "metadata": {},
     "output_type": "execute_result"
    }
   ],
   "source": [
    "dataset = Xval\n",
    "labels = Yval   \n",
    "   \n",
    "embedding = C[dataset] \n",
    "h = torch.tanh(embedding.view(-1,6) @ W1 + b1) \n",
    "logits = h @ W2 + b2\n",
    "loss = F.cross_entropy(logits, labels) \n",
    "loss"
   ]
  },
  {
   "cell_type": "code",
   "execution_count": 248,
   "metadata": {},
   "outputs": [
    {
     "data": {
      "text/plain": [
       "tensor(2.3396, grad_fn=<NllLossBackward0>)"
      ]
     },
     "execution_count": 248,
     "metadata": {},
     "output_type": "execute_result"
    }
   ],
   "source": [
    "dataset = Xtest\n",
    "labels = Ytest   \n",
    "   \n",
    "embedding = C[dataset] \n",
    "h = torch.tanh(embedding.view(-1,6) @ W1 + b1) \n",
    "logits = h @ W2 + b2\n",
    "loss = F.cross_entropy(logits, labels) \n",
    "loss"
   ]
  },
  {
   "cell_type": "markdown",
   "metadata": {},
   "source": [
    "### Here we can see that the loss of the Validation and Testing set, are roughly equal. This can indicate that the model is under fitting. "
   ]
  },
  {
   "cell_type": "markdown",
   "metadata": {},
   "source": [
    "### We will need to optimize the network in order to perfrom better, we can do this by increasing the networks parameters to better fit the dataset. "
   ]
  },
  {
   "cell_type": "markdown",
   "metadata": {},
   "source": [
    "---"
   ]
  },
  {
   "cell_type": "markdown",
   "metadata": {},
   "source": [
    "# Increasing the Size of the N.N. \n",
    "**We can increase the Parameters of the Neural Network, inorder for it to better fit the data**"
   ]
  },
  {
   "cell_type": "markdown",
   "metadata": {},
   "source": [
    "### Increasing the Neurons in the Hidden Layer (Step 2)"
   ]
  },
  {
   "cell_type": "code",
   "execution_count": 249,
   "metadata": {},
   "outputs": [],
   "source": [
    "# Funtion for the datasets\n",
    "\n",
    "def build_dataset(words): \n",
    "    block_size = 3\n",
    "\n",
    "    X,y = [],[]\n",
    "\n",
    "    for w in words: \n",
    "        context = [0] * block_size\n",
    "        for ch in w + '.': \n",
    "            ix = stoi[ch]\n",
    "            X.append(context)\n",
    "            y.append(ix)\n",
    "            context = context[1:] + [ix] \n",
    "            \n",
    "    X = torch.tensor(X)\n",
    "    Y = torch.tensor(y)\n",
    "    \n",
    "    return X,Y\n"
   ]
  },
  {
   "cell_type": "code",
   "execution_count": 250,
   "metadata": {},
   "outputs": [
    {
     "name": "stdout",
     "output_type": "stream",
     "text": [
      "New # of Parameters: 10281\n"
     ]
    }
   ],
   "source": [
    "# Setting Model Parameters\n",
    "g = torch.Generator().manual_seed(5) \n",
    "C = torch.rand((27,2), generator=g)\n",
    "\n",
    "#Step 2\n",
    "W1 = torch.rand((6,300), generator=g) # Changed hidden layer neurons from 100 to 300\n",
    "b1 = torch.rand((300), generator=g)  # Changed bias from 100 to 300\n",
    "\n",
    "#Step 3\n",
    "W2 = torch.rand((300,27), generator=g) # Changed softmax layer input from 100 to 300\n",
    "b2 = torch.rand((27), generator=g)\n",
    "params = [C, W1, b1, W2, b2] \n",
    "\n",
    "for p in params: \n",
    "    p.requires_grad_() \n",
    "    \n",
    "print('New # of Parameters:', sum(p.nelement() for p in params))"
   ]
  },
  {
   "cell_type": "code",
   "execution_count": 251,
   "metadata": {},
   "outputs": [
    {
     "data": {
      "text/plain": [
       "2.4386327266693115"
      ]
     },
     "execution_count": 251,
     "metadata": {},
     "output_type": "execute_result"
    }
   ],
   "source": [
    "# (Mini-Batch Training)\n",
    "dataset = Xtrain\n",
    "labels = Ytrain\n",
    "\n",
    "lossi = [] # Loss list of the model for the selected learning rate\n",
    "steps = [] \n",
    "\n",
    "for i in range(30000): \n",
    "    \n",
    "    #Mini batch Construction\n",
    "    ix = torch.randint(0, dataset.shape[0], (32,))\n",
    "    \n",
    "    # Forward pass\n",
    "    embedding = C[dataset[ix]] \n",
    "    h = torch.tanh(embedding.view(-1,6) @ W1 + b1) \n",
    "    logits = h @ W2 + b2\n",
    "    loss = F.cross_entropy(logits, labels[ix]) \n",
    "\n",
    "    for p in params: \n",
    "        p.grad = None\n",
    "    loss.backward()\n",
    "\n",
    "    lr = .01\n",
    "    for p in params: \n",
    "        p.data += -lr * p.grad \n",
    "    \n",
    "    lossi.append(loss.item())\n",
    "    steps.append(i)\n",
    "\n",
    "loss.item()\n"
   ]
  },
  {
   "cell_type": "code",
   "execution_count": 252,
   "metadata": {},
   "outputs": [
    {
     "data": {
      "image/png": "[encoded data removed]",
      "text/plain": [
       "<Figure size 640x480 with 1 Axes>"
      ]
     },
     "metadata": {},
     "output_type": "display_data"
    }
   ],
   "source": [
    "plt.plot(steps, lossi)\n",
    "plt.show()"
   ]
  },
  {
   "cell_type": "code",
   "execution_count": 253,
   "metadata": {},
   "outputs": [
    {
     "data": {
      "text/plain": [
       "tensor(2.4564, grad_fn=<NllLossBackward0>)"
      ]
     },
     "execution_count": 253,
     "metadata": {},
     "output_type": "execute_result"
    }
   ],
   "source": [
    "dataset = Xtrain\n",
    "labels = Ytrain   \n",
    "   \n",
    "embedding = C[dataset] \n",
    "h = torch.tanh(embedding.view(-1,6) @ W1 + b1) \n",
    "logits = h @ W2 + b2\n",
    "loss = F.cross_entropy(logits, labels) \n",
    "loss"
   ]
  },
  {
   "cell_type": "code",
   "execution_count": 254,
   "metadata": {},
   "outputs": [
    {
     "data": {
      "text/plain": [
       "tensor(2.4616, grad_fn=<NllLossBackward0>)"
      ]
     },
     "execution_count": 254,
     "metadata": {},
     "output_type": "execute_result"
    }
   ],
   "source": [
    "dataset = Xval\n",
    "labels = Yval   \n",
    "   \n",
    "embedding = C[dataset] \n",
    "h = torch.tanh(embedding.view(-1,6) @ W1 + b1) \n",
    "logits = h @ W2 + b2\n",
    "loss = F.cross_entropy(logits, labels)  \n",
    "loss"
   ]
  },
  {
   "cell_type": "code",
   "execution_count": 255,
   "metadata": {},
   "outputs": [
    {
     "data": {
      "text/plain": [
       "tensor(2.4517, grad_fn=<NllLossBackward0>)"
      ]
     },
     "execution_count": 255,
     "metadata": {},
     "output_type": "execute_result"
    }
   ],
   "source": [
    "dataset = Xtest\n",
    "labels = Ytest   \n",
    "   \n",
    "embedding = C[dataset] \n",
    "h = torch.tanh(embedding.view(-1,6) @ W1 + b1) \n",
    "logits = h @ W2 + b2\n",
    "loss = F.cross_entropy(logits, labels) \n",
    "loss"
   ]
  },
  {
   "cell_type": "markdown",
   "metadata": {},
   "source": [
    "### Since not much accuracy has increased in our Model with paramater scaling, the problem might reside in our input layer embeddings. \n",
    "\n",
    "### When we input the text we are scaling it down to 2 dimensions, with the look up matrix. We are trying to scale down all 27 characters to 2 dimensions (Lookup table [C]). This may cause the letters to not be graphed correctly in the feature space. "
   ]
  },
  {
   "cell_type": "markdown",
   "metadata": {},
   "source": [
    "---"
   ]
  },
  {
   "cell_type": "markdown",
   "metadata": {},
   "source": [
    "# Changing Embedding Size"
   ]
  },
  {
   "cell_type": "markdown",
   "metadata": {},
   "source": [
    "Keep in mind now to visualize the dataset will be more difficult do to it being in a higher dimension. "
   ]
  },
  {
   "cell_type": "code",
   "execution_count": 50,
   "metadata": {},
   "outputs": [],
   "source": [
    "# Funtion for the datasets\n",
    "\n",
    "def build_dataset(words): \n",
    "    block_size = 3\n",
    "\n",
    "    X,y = [],[]\n",
    "\n",
    "    for w in words: \n",
    "        context = [0] * block_size\n",
    "        for ch in w + '.': \n",
    "            ix = stoi[ch]\n",
    "            X.append(context)\n",
    "            y.append(ix)\n",
    "            context = context[1:] + [ix] \n",
    "            \n",
    "    X = torch.tensor(X)\n",
    "    Y = torch.tensor(y)\n",
    "    \n",
    "    return X,Y\n"
   ]
  },
  {
   "cell_type": "code",
   "execution_count": 51,
   "metadata": {},
   "outputs": [
    {
     "name": "stdout",
     "output_type": "stream",
     "text": [
      "New # of Parameters: 11897\n"
     ]
    }
   ],
   "source": [
    "# Setting Model Parameters\n",
    "g = torch.Generator().manual_seed(696969)\n",
    "C = torch.rand((27,10), generator=g)\n",
    "\n",
    "#Step 2\n",
    "W1 = torch.rand((30,200), generator=g) # Changed hidden layer neurons from 100 to 300\n",
    "b1 = torch.rand((200), generator=g)  # Changed bias from 100 to 300\n",
    "\n",
    "#Step 3\n",
    "W2 = torch.rand((200,27), generator=g) # Changed softmax layer input from 100 to 300\n",
    "b2 = torch.rand((27), generator=g)\n",
    "params = [C, W1, b1, W2, b2] \n",
    "\n",
    "for p in params: \n",
    "    p.requires_grad_() \n",
    "    \n",
    "print('New # of Parameters:', sum(p.nelement() for p in params))"
   ]
  },
  {
   "cell_type": "code",
   "execution_count": 52,
   "metadata": {},
   "outputs": [],
   "source": [
    "lossi = [] # Loss list of the model for the selected learning rate\n",
    "steps = [] # Steps for the model\n",
    "lri = [] # Stored list for the learning rate"
   ]
  },
  {
   "cell_type": "code",
   "execution_count": 57,
   "metadata": {},
   "outputs": [
    {
     "data": {
      "text/plain": [
       "1.9348187446594238"
      ]
     },
     "execution_count": 57,
     "metadata": {},
     "output_type": "execute_result"
    }
   ],
   "source": [
    "for i in range(50000): \n",
    "    \n",
    "    #Mini batch Construction\n",
    "    ix = torch.randint(0, Xtrain.shape[0], (32,))\n",
    "    \n",
    "    # Forward pass\n",
    "    embedding = C[Xtrain[ix]] \n",
    "    h = torch.tanh(embedding.view(-1,30) @ W1 + b1) \n",
    "    logits = h @ W2 + b2\n",
    "    loss = F.cross_entropy(logits, Ytrain[ix]) \n",
    "\n",
    "    for p in params: \n",
    "        p.grad = None\n",
    "    loss.backward()\n",
    "\n",
    "    lr = .01\n",
    "    for p in params: \n",
    "        p.data += -lr * p.grad \n",
    "    \n",
    "    lossi.append(loss.log10().item())\n",
    "    steps.append(i)\n",
    "\n",
    "loss.item()\n"
   ]
  },
  {
   "cell_type": "code",
   "execution_count": 54,
   "metadata": {},
   "outputs": [
    {
     "data": {
      "image/png": "[encoded data removed]",
      "text/plain": [
       "<Figure size 640x480 with 1 Axes>"
      ]
     },
     "metadata": {},
     "output_type": "display_data"
    }
   ],
   "source": [
    "plt.plot(steps, lossi)\n",
    "plt.show()"
   ]
  },
  {
   "cell_type": "code",
   "execution_count": 58,
   "metadata": {},
   "outputs": [
    {
     "data": {
      "text/plain": [
       "tensor(2.1557, grad_fn=<NllLossBackward0>)"
      ]
     },
     "execution_count": 58,
     "metadata": {},
     "output_type": "execute_result"
    }
   ],
   "source": [
    "dataset = Xval\n",
    "labels = Yval   \n",
    "   \n",
    "embedding = C[dataset] \n",
    "h = torch.tanh(embedding.view(-1,30) @ W1 + b1) \n",
    "logits = h @ W2 + b2\n",
    "loss = F.cross_entropy(logits, labels)  \n",
    "loss"
   ]
  },
  {
   "cell_type": "code",
   "execution_count": 59,
   "metadata": {},
   "outputs": [
    {
     "data": {
      "text/plain": [
       "tensor(2.1389, grad_fn=<NllLossBackward0>)"
      ]
     },
     "execution_count": 59,
     "metadata": {},
     "output_type": "execute_result"
    }
   ],
   "source": [
    "dataset = Xtest\n",
    "labels = Ytest   \n",
    "   \n",
    "embedding = C[dataset] \n",
    "h = torch.tanh(embedding.view(-1,30) @ W1 + b1) \n",
    "logits = h @ W2 + b2\n",
    "loss = F.cross_entropy(logits, labels)  \n",
    "loss"
   ]
  },
  {
   "cell_type": "markdown",
   "metadata": {},
   "source": [
    "# Inference of the Optimized Model"
   ]
  },
  {
   "cell_type": "code",
   "execution_count": 65,
   "metadata": {},
   "outputs": [
    {
     "name": "stdout",
     "output_type": "stream",
     "text": [
      "luctestie.\n",
      "ser.\n",
      "perani.\n",
      "nora.\n",
      "alynn.\n",
      "keiliyah.\n",
      "kehashlon.\n",
      "sola.\n",
      "matentree.\n",
      "soa.\n",
      "olanarya.\n",
      "eisae.\n",
      "aya.\n",
      "jernab.\n",
      "wing.\n",
      "tenia.\n",
      "harley.\n",
      "zae.\n",
      "jarzton.\n",
      "malynn.\n"
     ]
    }
   ],
   "source": [
    "for _ in range(20): \n",
    "    \n",
    "    out = []\n",
    "    context = [0] * block_size\n",
    "    \n",
    "    while True: \n",
    "        embedding = C[torch.tensor(context)] \n",
    "        h = torch.tanh(embedding.view(1,-1) @ W1 + b1) \n",
    "        logits = h @ W2 + b2\n",
    "        prob = F.softmax(logits, dim=1)\n",
    "        ix = torch.multinomial(prob, num_samples = 1, generator=g).item()\n",
    "        context = context[1:] + [ix]\n",
    "        out.append(ix)\n",
    "        if ix == 0: \n",
    "            break\n",
    "    \n",
    "    print(''.join(itos[i] for i in out))\n",
    " \n",
    "        "
   ]
  }
 ],
 "metadata": {
  "kernelspec": {
   "display_name": "makemore",
   "language": "python",
   "name": "python3"
  },
  "language_info": {
   "codemirror_mode": {
    "name": "ipython",
    "version": 3
   },
   "file_extension": ".py",
   "mimetype": "text/x-python",
   "name": "python",
   "nbconvert_exporter": "python",
   "pygments_lexer": "ipython3",
   "version": "3.12.8"
  }
 },
 "nbformat": 4,
 "nbformat_minor": 2
}
